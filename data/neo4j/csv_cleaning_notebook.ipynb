{
 "cells": [
  {
   "cell_type": "markdown",
   "id": "ac48e5ba",
   "metadata": {},
   "source": [
    "# Cleaning CSV with Mixed Quoting\n",
    "\n",
    "This notebook demonstrates how to clean a CSV file containing a mixture of valid and invalid quoting, preserving the valid quotes while removing or correcting the invalid ones."
   ]
  },
  {
   "cell_type": "markdown",
   "id": "b1947a53",
   "metadata": {},
   "source": [
    "## Approach\n",
    "\n",
    "1. Read the CSV file line by line.\n",
    "2. Apply custom rules to identify and remove or replace invalid quotes.\n",
    "3. Parse the corrected lines into a pandas DataFrame."
   ]
  },
  {
   "cell_type": "markdown",
   "id": "ef3dbddb",
   "metadata": {},
   "source": [
    "## Import Necessary Libraries"
   ]
  },
  {
   "cell_type": "code",
   "execution_count": null,
   "id": "dcbfff9d",
   "metadata": {},
   "outputs": [],
   "source": [
    "import pandas as pd\n",
    "from io import StringIO"
   ]
  },
  {
   "cell_type": "markdown",
   "id": "cc431579",
   "metadata": {},
   "source": [
    "## Define the Cleaning Function"
   ]
  },
  {
   "cell_type": "code",
   "execution_count": null,
   "id": "4c8137db",
   "metadata": {},
   "outputs": [],
   "source": [
    "def clean_line(line):\n",
    "    # Add custom rules here based on the patterns of invalid quotes in your file\n",
    "    # Example: Remove quotes at the start and end of a line\n",
    "    if line.startswith('\"') and line.endswith('\"'):\n",
    "        line = line[1:-1]\n",
    "    return line"
   ]
  },
  {
   "cell_type": "markdown",
   "id": "f4997c03",
   "metadata": {},
   "source": [
    "## Load and Clean the CSV File"
   ]
  },
  {
   "cell_type": "code",
   "execution_count": null,
   "id": "f4299cf5",
   "metadata": {},
   "outputs": [],
   "source": [
    "def load_and_clean_csv(file_path):\n",
    "    cleaned_lines = []\n",
    "    with open(file_path, 'r', encoding='utf-8') as file:\n",
    "        for line in file:\n",
    "            cleaned_line = clean_line(line.strip())\n",
    "            cleaned_lines.append(cleaned_line)\n",
    "    cleaned_content = '\\n'.join(cleaned_lines)\n",
    "    file_like_object = StringIO(cleaned_content)\n",
    "    df = pd.read_csv(file_like_object)\n",
    "    return df"
   ]
  },
  {
   "cell_type": "markdown",
   "id": "28f193fd",
   "metadata": {},
   "source": [
    "## Example Usage"
   ]
  },
  {
   "cell_type": "code",
   "execution_count": null,
   "id": "550b06a3",
   "metadata": {},
   "outputs": [],
   "source": [
    "# Replace 'path_to_your_csv_file.csv' with the actual path to your CSV file\n",
    "file_path = 'path_to_your_csv_file.csv'\n",
    "df = load_and_clean_csv(file_path)\n",
    "print(df)"
   ]
  }
 ],
 "metadata": {},
 "nbformat": 4,
 "nbformat_minor": 5
}
