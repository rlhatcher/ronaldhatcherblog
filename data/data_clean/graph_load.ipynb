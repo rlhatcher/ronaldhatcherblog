{
 "cells": [
  {
   "cell_type": "markdown",
   "metadata": {},
   "source": [
    "# Base Data Loader\n",
    "\n",
    "## Introduction\n",
    "\n",
    "Add a Markdown cell at the beginning of the notebook explaining the overall objective, including the use of LOAD CSV for importing data into Neo4j, and any prerequisites such as CSV file locations and database setup."
   ]
  },
  {
   "cell_type": "markdown",
   "metadata": {},
   "source": [
    "## Setup and Configuration"
   ]
  },
  {
   "cell_type": "markdown",
   "metadata": {},
   "source": [
    "### local neo4j\n",
    "\n",
    "Run the neo4j container with the data and import mount-points something like this\n",
    "\n",
    "``` bash\n",
    "docker run \\\n",
    "    --restart always \\\n",
    "    --publish=7474:7474 --publish=7687:7687 \\\n",
    "    --env NEO4J_AUTH=neo4j/password \\\n",
    "    --volume=/Volumes/DevStorage/Databases/neo4j/neo4jdata:/data \\\n",
    "    --volume=/Volumes/DevStorage/github/rlhatcher/ronaldhatcherblog/data/data_clean:/import \\\n",
    "    neo4j:5.16.0\n",
    "```\n",
    "\n",
    "The directory containing this notebook and the CSV data files should map to the import folder in the neo4j image.\n",
    "\n",
    "### imports"
   ]
  },
  {
   "cell_type": "code",
   "execution_count": 1,
   "metadata": {},
   "outputs": [],
   "source": [
    "from neo4j import GraphDatabase"
   ]
  },
  {
   "cell_type": "markdown",
   "metadata": {},
   "source": [
    "### database connection"
   ]
  },
  {
   "cell_type": "code",
   "execution_count": 2,
   "metadata": {},
   "outputs": [],
   "source": [
    "uri = \"bolt://localhost:7687\"\n",
    "driver = GraphDatabase.driver(uri, auth=(\"neo4j\", \"password\"))"
   ]
  },
  {
   "cell_type": "markdown",
   "metadata": {},
   "source": [
    "## Queries"
   ]
  },
  {
   "cell_type": "code",
   "execution_count": 3,
   "metadata": {},
   "outputs": [],
   "source": [
    "queries = {\n",
    "    \"clear_graph\": \"MATCH (n) DETACH DELETE n\",\n",
    "    \"count_graph\": \"MATCH (n) RETURN COUNT(n)\",\n",
    "    \"load_person\": \"\"\"\n",
    "        CREATE (:Person {\n",
    "            email: 'ronaldhatcher@mac.com',\n",
    "            family_name: 'Hatcher',\n",
    "            given_name: 'Ronald',\n",
    "            id: 'kp_878e41a7d93846cca23114ad549e8126',\n",
    "            picture: 'https://lh3.googleusercontent.com/a/ACg8ocKicc19o8E_h-mOGCLngSlTsFxJLcIGONz_ntc4RW5_3Q=s96-c'})\n",
    "        \"\"\",\n",
    "    \"load_mfg\": \"\"\"\n",
    "        LOAD CSV WITH HEADERS FROM $url AS line\n",
    "        CREATE (:Manufacturer {name: line.name, id: line.id})\n",
    "        \"\"\",\n",
    "    \"load_motor\": \"\"\"\n",
    "        LOAD CSV WITH HEADERS FROM $url AS line\n",
    "        MERGE (manufacturer:Manufacturer {id: line.mfgID})\n",
    "        CREATE (motor:Motor {\n",
    "          commonName: line.commonName,\n",
    "          delays: line.delays,\n",
    "          diameter: toFloat(line.diameter),\n",
    "          infoUrl: line.infoUrl,\n",
    "          totImpulseNs: toFloat(line.totImpulseNs),\n",
    "          manufacturer: line.manufacturer,\n",
    "          burnTimeS: toFloat(line.burnTimeS),\n",
    "          propInfo: line.propInfo,\n",
    "          length: toFloat(line.length),\n",
    "          avgThrustN: toFloat(line.avgThrustN),\n",
    "          dataFiles: line.dataFiles,\n",
    "          impulseClass: line.impulseClass,\n",
    "          sparky: line.sparky,\n",
    "          caseInfo: line.caseInfo,\n",
    "          propWeightG: toFloat(line.propWeightG),\n",
    "          certOrg: line.certOrg,\n",
    "          motorId: line.motorId,\n",
    "          availability: line.availability,\n",
    "          maxThrustN: toFloat(line.maxThrustN),\n",
    "          totalWeightG: toFloat(line.totalWeightG),\n",
    "          designation: line.designation,\n",
    "          updatedOn: line.updatedOn,\n",
    "          type: line.type\n",
    "        })\n",
    "        MERGE (manufacturer)-[:MAKES]->(motor)\n",
    "        \"\"\",\n",
    "    \"load_kit\": \"\"\"\n",
    "        LOAD CSV WITH HEADERS FROM $url AS row\n",
    "        MERGE (manufacturer:Manufacturer {id: row.mfgID})\n",
    "        CREATE (kit:Kit {\n",
    "          id: row.UniqueID,\n",
    "          name: row.Name,\n",
    "          url: row.url,\n",
    "          imageSrc: row['image_src'],\n",
    "          recommendedEngines: row['Recommended Engines'],\n",
    "          projectedMaxAltitude: row['Projected Max Altitude'],\n",
    "          recoverySystem: row['Recovery System'],\n",
    "          length: toFloat(row.Length),\n",
    "          diameter:  toFloat(row.Diameter),\n",
    "          estimatedWeight: toFloat(row['Estimated Weight']),\n",
    "          estimatedAssemblyTime: row['Estimated Assembly Time'],\n",
    "          finMaterials: row['Fin Materials'],\n",
    "          decalType: row['Decal Type'],\n",
    "          launchSystem: row['Launch System'],\n",
    "          launchRodSize: row['Launch Rod Size'],\n",
    "          instructions: row.instructions,\n",
    "          ageRecommendation: row['Age Recommendation'],\n",
    "          height: toFloat(row.Height),\n",
    "          weight: toFloat(row.Weight),\n",
    "          motorMount: row['Motor Mount'],\n",
    "          parachuteSize: row['Parachute Size'],\n",
    "          shockCordType: row['Shock Cord Type'],\n",
    "          shockCordMount: row['Shock Cord Mount'],\n",
    "          finThickness: toFloat(row['Fin Thickness']),\n",
    "          ringThickness: toFloat(row['Ring Thickness']),\n",
    "          instructionsUrl: row.Instructions,\n",
    "          price: toFloat(row.Price),\n",
    "          currency: row.Currency,\n",
    "          sku: row.SKU,\n",
    "          stockStatus: row['Stock Status'],\n",
    "          description: row.Description,\n",
    "          links: row.Links,\n",
    "          parachute: row.Parachute,\n",
    "          finArray: row['Fin Array'],\n",
    "          complexity: NULL\n",
    "        })\n",
    "        MERGE (manufacturer)-[:MAKES]->(kit);\n",
    "        \"\"\",\n",
    "    \"load_rocket\": \"\"\"\n",
    "        LOAD CSV WITH HEADERS FROM $url AS line\n",
    "        MERGE (manufacturer:Manufacturer {id: line.mfgID})\n",
    "        CREATE (rocket:Rocket {\n",
    "          id: line.id,\n",
    "          name: line.name,\n",
    "          descripton: line.description,\n",
    "          image: line.image\n",
    "        })\n",
    "        MERGE (manufacturer)-[:MAKES]->(rocket);\n",
    "        \"\"\",\n",
    "    \"load_model\": \"\"\"\n",
    "        LOAD CSV WITH HEADERS FROM $url AS line\n",
    "        CREATE (:Model:Rocket {name: line.name, id: line.id, image: line.image})\n",
    "        \"\"\",\n",
    "    \"load_design\": \"\"\"\n",
    "        LOAD CSV WITH HEADERS FROM $url AS line\n",
    "        CREATE (:Design \n",
    "          { id: line.id, \n",
    "            rocketId: line.rocketId, \n",
    "            name: line.name, \n",
    "            filename: line.filename, \n",
    "            stages: toInteger(line.stages),\n",
    "            massEmpty: toFloat(line.massEmpty),\n",
    "            stabilityCal: toFloat(line.stabilityCal),\n",
    "            stabilityPct: toFloat(line.stabilityPct),\n",
    "            cg: toFloat(line.cg),\n",
    "            cp: toFloat(line.cp),\n",
    "            length: toFloat(line.length),\n",
    "            maxDiameter: toFloat(line.maxDiameter)\n",
    "          })\n",
    "        \"\"\",\n",
    "    \"vorb_lone\": \"\"\"\n",
    "        MATCH (r:Rocket {id: 'a44238b2-9ed1-4500-9112-08d79009ab49'}), (m:Model {id: 'd3cd5b35-924f-405f-bbd7-9c435a018453'})\n",
    "        MERGE (m)-[:BASED_ON]->(r)\n",
    "        \"\"\",\n",
    "    \"hughes_aim54\": \"\"\"\n",
    "        MATCH (r:Rocket {id: 'fd2a6b9a-a9b5-4efe-95d2-c028171b8767'}), (m:Model {id: 'b5294a38-eaf5-4b7d-a6ae-de4468d9c9e0'})\n",
    "        MERGE (m)-[:BASED_ON]->(r)\n",
    "        \"\"\",\n",
    "    \"aim54_kit\": \"\"\"\n",
    "        MATCH (k:Kit {id: '9e295916-5309-4471-847d-4d42c814a806'}), (m:Model {id: 'b5294a38-eaf5-4b7d-a6ae-de4468d9c9e0'})\n",
    "        MERGE (m)-[:BASED_ON]->(k)\n",
    "        \"\"\",\n",
    "    \"person_models\": \"\"\"\n",
    "        MATCH (p:Person {id: \"kp_878e41a7d93846cca23114ad549e8126\"}), (m:Model)\n",
    "        MERGE (p)-[:OWNS]->(m)\n",
    "        \"\"\"\n",
    "}"
   ]
  },
  {
   "cell_type": "markdown",
   "metadata": {},
   "source": [
    "## Query Execution"
   ]
  },
  {
   "cell_type": "code",
   "execution_count": 4,
   "metadata": {},
   "outputs": [],
   "source": [
    "def execute_query(driver, query_key, parameters=None):\n",
    "    with driver.session() as session:\n",
    "        result = session.execute_write(lambda tx: tx.run(queries[query_key], parameters))\n",
    "        return result"
   ]
  },
  {
   "cell_type": "markdown",
   "metadata": {},
   "source": [
    "## Data Loading"
   ]
  },
  {
   "cell_type": "code",
   "execution_count": 5,
   "metadata": {},
   "outputs": [
    {
     "data": {
      "text/plain": [
       "<neo4j._sync.work.result.Result at 0x162271490>"
      ]
     },
     "execution_count": 5,
     "metadata": {},
     "output_type": "execute_result"
    }
   ],
   "source": [
    "execute_query(driver, \"clear_graph\")\n",
    "\n",
    "# Nodes\n",
    "execute_query(driver, \"load_mfg\", {\"url\": \"file:///manufacturers.csv\"})\n",
    "execute_query(driver, \"load_motor\", {\"url\": \"file:///motors.csv\"})\n",
    "execute_query(driver, \"load_kit\", {\"url\": \"file:///kits.csv\"})\n",
    "execute_query(driver, \"load_rocket\", {\"url\": \"file:///rockets.csv\"})\n",
    "execute_query(driver, \"load_person\")\n",
    "execute_query(driver, \"load_model\", {\"url\": \"file:///models.csv\"})\n",
    "\n",
    "# Hacks\n",
    "execute_query(driver, \"vorb_lone\")\n",
    "execute_query(driver, \"hughes_aim54\")\n",
    "execute_query(driver, \"aim54_kit\")\n",
    "execute_query(driver, \"person_models\")"
   ]
  },
  {
   "cell_type": "markdown",
   "metadata": {},
   "source": [
    "## Validation\n",
    "\n",
    "After loading the data, include steps to validate the import process (e.g., count nodes and relationships).\n",
    "\n",
    "```python\n",
    "# Example validation query\n",
    "result = execute_query(driver, \"count_people\")  # Assume you have defined this query\n",
    "for record in result:\n",
    "    print(\"Number of people:\", record[\"count\"])\n",
    "```\n",
    "\n",
    "Add a concluding Markdown cell summarizing the work done and any observations or next steps."
   ]
  },
  {
   "cell_type": "markdown",
   "metadata": {},
   "source": [
    "## Cleanup"
   ]
  },
  {
   "cell_type": "code",
   "execution_count": 6,
   "metadata": {},
   "outputs": [],
   "source": [
    "driver.close()"
   ]
  }
 ],
 "metadata": {
  "kernelspec": {
   "display_name": "Python 3",
   "language": "python",
   "name": "python3"
  },
  "language_info": {
   "codemirror_mode": {
    "name": "ipython",
    "version": 3
   },
   "file_extension": ".py",
   "mimetype": "text/x-python",
   "name": "python",
   "nbconvert_exporter": "python",
   "pygments_lexer": "ipython3",
   "version": "3.11.6"
  }
 },
 "nbformat": 4,
 "nbformat_minor": 2
}
