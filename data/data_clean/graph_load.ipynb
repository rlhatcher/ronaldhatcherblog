{
 "cells": [
  {
   "cell_type": "code",
   "execution_count": 1,
   "metadata": {},
   "outputs": [
    {
     "name": "stdout",
     "output_type": "stream",
     "text": [
      "0\n"
     ]
    }
   ],
   "source": [
    "from neo4j import GraphDatabase\n",
    "uri = \"bolt://localhost:7687\"\n",
    "pwd = \"password\"\n",
    "\n",
    "driver = GraphDatabase.driver(uri, auth=(\"neo4j\", pwd))\n",
    "\n",
    "query = \"MATCH (n) RETURN COUNT(n)\"\n",
    "\n",
    "with driver.session() as session:\n",
    "    result = session.run(query)\n",
    "    print(result.single()[\"COUNT(n)\"])"
   ]
  },
  {
   "cell_type": "code",
   "execution_count": 2,
   "metadata": {},
   "outputs": [],
   "source": [
    "query = \"\"\"\n",
    "LOAD CSV WITH HEADERS FROM 'file:///manufacturers.csv' AS line\n",
    "CREATE (:Manufacturer {name: line.name, mfgID: line.mfgID})\n",
    "\"\"\"\n",
    "\n",
    "with driver.session() as session:\n",
    "    result = session.run(query)"
   ]
  },
  {
   "cell_type": "code",
   "execution_count": 3,
   "metadata": {},
   "outputs": [],
   "source": [
    "query = \"\"\"\n",
    "LOAD CSV WITH HEADERS FROM 'file:///motors.csv' AS line\n",
    "CREATE (:Motor {\n",
    "  commonName: line.commonName,\n",
    "  delays: line.delays,\n",
    "  diameter: toFloat(line.diameter),\n",
    "  infoUrl: line.infoUrl,\n",
    "  totImpulseNs: toFloat(line.totImpulseNs),\n",
    "  manufacturer: line.manufacturer,\n",
    "  burnTimeS: toFloat(line.burnTimeS),\n",
    "  propInfo: line.propInfo,\n",
    "  length: toFloat(line.length),\n",
    "  avgThrustN: toFloat(line.avgThrustN),\n",
    "  dataFiles: line.dataFiles,\n",
    "  impulseClass: line.impulseClass,\n",
    "  sparky: line.sparky,\n",
    "  caseInfo: line.caseInfo,\n",
    "  propWeightG: toFloat(line.propWeightG),\n",
    "  certOrg: line.certOrg,\n",
    "  motorId: line.motorId,\n",
    "  availability: line.availability,\n",
    "  maxThrustN: toFloat(line.maxThrustN),\n",
    "  totalWeightG: toFloat(line.totalWeightG),\n",
    "  designation: line.designation,\n",
    "  updatedOn: line.updatedOn,\n",
    "  type: line.type,\n",
    "  mfgID: line.mfgID\n",
    "})\n",
    "\"\"\"\n",
    "\n",
    "with driver.session() as session:\n",
    "    result = session.run(query)"
   ]
  },
  {
   "cell_type": "code",
   "execution_count": 4,
   "metadata": {},
   "outputs": [],
   "source": [
    "query = \"\"\"\n",
    "LOAD CSV WITH HEADERS FROM 'file:///kits.csv' AS row\n",
    "MERGE (kit:Kit {uniqueID: row.UniqueID})\n",
    "ON CREATE SET\n",
    "  kit.name = row.Name,\n",
    "  kit.url = row.url,\n",
    "  kit.imageSrc = row['image_src'],\n",
    "  kit.recommendedEngines = row['Recommended Engines'],\n",
    "  kit.projectedMaxAltitude = row['Projected Max Altitude'],\n",
    "  kit.recoverySystem = row['Recovery System'],\n",
    "  kit.length = toFloat(row.Length),\n",
    "  kit.diameter = toFloat(row.Diameter),\n",
    "  kit.estimatedWeight = toFloat(row['Estimated Weight']),\n",
    "  kit.estimatedAssemblyTime = row['Estimated Assembly Time'],\n",
    "  kit.finMaterials = row['Fin Materials'],\n",
    "  kit.decalType = row['Decal Type'],\n",
    "  kit.launchSystem = row['Launch System'],\n",
    "  kit.launchRodSize = row['Launch Rod Size'],\n",
    "  kit.instructions = row.instructions,\n",
    "  kit.ageRecommendation = row['Age Recommendation'],\n",
    "  kit.mfgID = row.mfgID,\n",
    "  kit.height = toFloat(row.Height),\n",
    "  kit.weight = toFloat(row.Weight),\n",
    "  kit.motorMount = row['Motor Mount'],\n",
    "  kit.parachuteSize = row['Parachute Size'],\n",
    "  kit.shockCordType = row['Shock Cord Type'],\n",
    "  kit.shockCordMount = row['Shock Cord Mount'],\n",
    "  kit.finThickness = toFloat(row['Fin Thickness']),\n",
    "  kit.ringThickness = toFloat(row['Ring Thickness']),\n",
    "  kit.instructionsUrl = row.Instructions,\n",
    "  kit.price = toFloat(row.Price),\n",
    "  kit.currency = row.Currency,\n",
    "  kit.sku = row.SKU,\n",
    "  kit.stockStatus = row['Stock Status'],\n",
    "  kit.description = row.Description,\n",
    "  kit.links = row.Links,\n",
    "  kit.parachute = row.Parachute,\n",
    "  kit.finArray = row['Fin Array'],\n",
    "  // Using CASE to conditionally set the complexity property\n",
    "  kit.complexity = CASE WHEN row.Complexity IS NOT NULL THEN row.Complexity ELSE NULL END;\n",
    "\"\"\"\n",
    "\n",
    "with driver.session() as session:\n",
    "    result = session.run(query)"
   ]
  },
  {
   "cell_type": "code",
   "execution_count": 5,
   "metadata": {},
   "outputs": [],
   "source": [
    "query = \"\"\"\n",
    "LOAD CSV WITH HEADERS FROM 'file:///rockets.csv' AS line\n",
    "CREATE (:Rocket {id: line.id, name: line.name, mfgID: line.mfgID, photo: line.photo})\n",
    "\"\"\"\n",
    "\n",
    "with driver.session() as session:\n",
    "    result = session.run(query)"
   ]
  },
  {
   "cell_type": "code",
   "execution_count": 6,
   "metadata": {},
   "outputs": [],
   "source": [
    "query = \"\"\"\n",
    "LOAD CSV WITH HEADERS FROM 'file:///models.csv' AS line\n",
    "CREATE (:Model:Rocket {name: line.name, id: line.id, photo: line.photo})\n",
    "\"\"\"\n",
    "\n",
    "with driver.session() as session:\n",
    "    result = session.run(query)"
   ]
  },
  {
   "cell_type": "code",
   "execution_count": 7,
   "metadata": {},
   "outputs": [],
   "source": [
    "query = \"\"\"\n",
    "CREATE (:Person {\n",
    "email: 'ronaldhatcher@mac.com',\n",
    "family_name: 'Hatcher',\n",
    "given_name: 'Ronald',\n",
    "id: 'kp_878e41a7d93846cca23114ad549e8126',\n",
    "picture: 'https://lh3.googleusercontent.com/a/ACg8ocKicc19o8E_h-mOGCLngSlTsFxJLcIGONz_ntc4RW5_3Q=s96-c'})\n",
    "\"\"\"\n",
    "\n",
    "with driver.session() as session:\n",
    "    result = session.run(query)"
   ]
  },
  {
   "cell_type": "code",
   "execution_count": 8,
   "metadata": {},
   "outputs": [],
   "source": [
    "query = \"\"\"\n",
    "LOAD CSV WITH HEADERS FROM 'file:///designs.csv' AS line\n",
    "CREATE (:Design {id: line.id, rocket: line.rocket, name: line.name, filename: line.filename, fileURL: line.fileURL})\n",
    "\"\"\"\n",
    "\n",
    "with driver.session() as session:\n",
    "    result = session.run(query)"
   ]
  },
  {
   "cell_type": "markdown",
   "metadata": {},
   "source": [
    "Add our relationships\n"
   ]
  },
  {
   "cell_type": "code",
   "execution_count": 9,
   "metadata": {},
   "outputs": [],
   "source": [
    "query = \"\"\"\n",
    "MATCH (manufacturer:Manufacturer), \n",
    "      (motor:Motor) \n",
    "WHERE motor.mfgID = manufacturer.mfgID \n",
    "MERGE (manufacturer)-[:MAKES]->(motor);\n",
    "\"\"\"\n",
    "with driver.session() as session:\n",
    "    result = session.run(query)"
   ]
  },
  {
   "cell_type": "code",
   "execution_count": 10,
   "metadata": {},
   "outputs": [],
   "source": [
    "query = \"\"\"\n",
    "MATCH (manufacturer:Manufacturer), \n",
    "(kit:Kit)\n",
    "WHERE kit.mfgID = manufacturer.mfgID \n",
    "MERGE (manufacturer)-[:MAKES]->(kit);\n",
    "\"\"\"\n",
    "with driver.session() as session:\n",
    "    result = session.run(query)"
   ]
  },
  {
   "cell_type": "code",
   "execution_count": 11,
   "metadata": {},
   "outputs": [],
   "source": [
    "query = \"\"\"\n",
    "MATCH (manufacturer:Manufacturer), \n",
    "(rocket:Rocket)\n",
    "WHERE rocket.mfgID = manufacturer.mfgID \n",
    "MERGE (manufacturer)-[:MAKES]->(rocket);\n",
    "\"\"\"\n",
    "with driver.session() as session:\n",
    "    result = session.run(query)"
   ]
  },
  {
   "cell_type": "code",
   "execution_count": 12,
   "metadata": {},
   "outputs": [],
   "source": [
    "query = \"\"\"\n",
    "match (r:Rocket {mfgID: 'vorb', id: 'launcherone'}),\n",
    "      (m:Model {id: 'lone'})\n",
    "      MERGE (m)-[:BASED_ON]->(r)\n",
    "\"\"\"\n",
    "with driver.session() as session:\n",
    "    result = session.run(query)"
   ]
  },
  {
   "cell_type": "code",
   "execution_count": 13,
   "metadata": {},
   "outputs": [],
   "source": [
    "query = \"\"\"\n",
    "match (r:Rocket {mfgID: 'hughes', id: 'aim54a'}),\n",
    "      (m:Model {id: 'phx'})\n",
    "      MERGE (m)-[:BASED_ON]->(r)\n",
    "\"\"\"\n",
    "with driver.session() as session:\n",
    "    result = session.run(query)"
   ]
  },
  {
   "cell_type": "code",
   "execution_count": 14,
   "metadata": {},
   "outputs": [],
   "source": [
    "query = \"\"\"\n",
    "MATCH (k:Kit {uniqueID: '9e295916-5309-4471-847d-4d42c814a806'}),\n",
    "      (m:Model {id: 'phx'})\n",
    "      MERGE (m)-[:BASED_ON]->(k)\n",
    "\"\"\"\n",
    "with driver.session() as session:\n",
    "    result = session.run(query)"
   ]
  },
  {
   "cell_type": "code",
   "execution_count": 15,
   "metadata": {},
   "outputs": [],
   "source": [
    "query = \"\"\"\n",
    "MATCH (p:Person {id: \"kp_878e41a7d93846cca23114ad549e8126\"}), (m:Model)\n",
    "WHERE m.id IN ['lone', 'phx', 'bfhr']\n",
    "MERGE (p)-[:OWNS]->(m)\n",
    "\"\"\"\n",
    "with driver.session() as session:\n",
    "    result = session.run(query)"
   ]
  },
  {
   "cell_type": "code",
   "execution_count": 16,
   "metadata": {},
   "outputs": [],
   "source": [
    "query = \"\"\"\n",
    "MATCH (r:Rocket), (d:Design)\n",
    "WHERE r.id = d.rocket\n",
    "MERGE (r)-[:DEFINED_BY]->(d)\n",
    "\"\"\"\n",
    "\n",
    "with driver.session() as session:\n",
    "    result = session.run(query)"
   ]
  }
 ],
 "metadata": {
  "kernelspec": {
   "display_name": "Python 3",
   "language": "python",
   "name": "python3"
  },
  "language_info": {
   "codemirror_mode": {
    "name": "ipython",
    "version": 3
   },
   "file_extension": ".py",
   "mimetype": "text/x-python",
   "name": "python",
   "nbconvert_exporter": "python",
   "pygments_lexer": "ipython3",
   "version": "3.11.6"
  }
 },
 "nbformat": 4,
 "nbformat_minor": 2
}
