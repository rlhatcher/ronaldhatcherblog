{
 "cells": [
  {
   "cell_type": "markdown",
   "metadata": {},
   "source": [
    "# Base Data Loader\n",
    "\n",
    "## Introduction\n",
    "\n",
    "Add a Markdown cell at the beginning of the notebook explaining the overall objective, including the use of LOAD CSV for importing data into Neo4j, and any prerequisites such as CSV file locations and database setup."
   ]
  },
  {
   "cell_type": "markdown",
   "metadata": {},
   "source": [
    "## Setup and Configuration"
   ]
  },
  {
   "cell_type": "markdown",
   "metadata": {},
   "source": [
    "### local neo4j\n",
    "\n",
    "Run the neo4j container with the data and import mount-points something like this\n",
    "\n",
    "``` bash\n",
    "docker run \\\n",
    "    --restart always \\\n",
    "    --publish=7474:7474 --publish=7687:7687 \\\n",
    "    --env NEO4J_AUTH=neo4j/password \\\n",
    "    --volume=/Volumes/DevStorage/Databases/neo4j/neo4jdata:/data \\\n",
    "    --volume=/Volumes/DevStorage/github/rlhatcher/ronaldhatcherblog/data/data_clean:/import \\\n",
    "    neo4j:5.16.0\n",
    "```\n",
    "\n",
    "The directory containing this notebook and the CSV data files should map to the import folder in the neo4j image.\n",
    "\n",
    "### imports"
   ]
  },
  {
   "cell_type": "code",
   "execution_count": null,
   "metadata": {},
   "outputs": [],
   "source": [
    "from neo4j import GraphDatabase"
   ]
  },
  {
   "cell_type": "markdown",
   "metadata": {},
   "source": [
    "### database connection"
   ]
  },
  {
   "cell_type": "code",
   "execution_count": null,
   "metadata": {},
   "outputs": [],
   "source": [
    "uri = \"bolt://localhost:7687\"\n",
    "driver = GraphDatabase.driver(uri, auth=(\"neo4j\", \"password\"))"
   ]
  },
  {
   "cell_type": "markdown",
   "metadata": {},
   "source": [
    "## Queries"
   ]
  },
  {
   "cell_type": "code",
   "execution_count": null,
   "metadata": {},
   "outputs": [],
   "source": [
    "queries = {\n",
    "    \"clear_graph\": \"MATCH (n) DETACH DELETE n\",\n",
    "    \"count_graph\": \"MATCH (n) RETURN COUNT(n)\",\n",
    "    \"load_person\": \"\"\"\n",
    "        CREATE (:Person {\n",
    "            email: 'ronaldhatcher@mac.com',\n",
    "            family_name: 'Hatcher',\n",
    "            given_name: 'Ronald',\n",
    "            id: 'kp_878e41a7d93846cca23114ad549e8126',\n",
    "            picture: 'https://lh3.googleusercontent.com/a/ACg8ocKicc19o8E_h-mOGCLngSlTsFxJLcIGONz_ntc4RW5_3Q=s96-c'})\n",
    "        \"\"\",\n",
    "    \"load_mfg\": \"\"\"\n",
    "        LOAD CSV WITH HEADERS FROM $url AS line\n",
    "        CREATE (:Manufacturer {name: line.name, mfgID: line.mfgID})\n",
    "        \"\"\",\n",
    "    \"load_motor\": \"\"\"\n",
    "        LOAD CSV WITH HEADERS FROM $url AS line\n",
    "        CREATE (:Motor {\n",
    "          commonName: line.commonName,\n",
    "          delays: line.delays,\n",
    "          diameter: toFloat(line.diameter),\n",
    "          infoUrl: line.infoUrl,\n",
    "          totImpulseNs: toFloat(line.totImpulseNs),\n",
    "          manufacturer: line.manufacturer,\n",
    "          burnTimeS: toFloat(line.burnTimeS),\n",
    "          propInfo: line.propInfo,\n",
    "          length: toFloat(line.length),\n",
    "          avgThrustN: toFloat(line.avgThrustN),\n",
    "          dataFiles: line.dataFiles,\n",
    "          impulseClass: line.impulseClass,\n",
    "          sparky: line.sparky,\n",
    "          caseInfo: line.caseInfo,\n",
    "          propWeightG: toFloat(line.propWeightG),\n",
    "          certOrg: line.certOrg,\n",
    "          motorId: line.motorId,\n",
    "          availability: line.availability,\n",
    "          maxThrustN: toFloat(line.maxThrustN),\n",
    "          totalWeightG: toFloat(line.totalWeightG),\n",
    "          designation: line.designation,\n",
    "          updatedOn: line.updatedOn,\n",
    "          type: line.type,\n",
    "          mfgID: line.mfgID\n",
    "        })\n",
    "        \"\"\",\n",
    "    \"load_kit\": \"\"\"\n",
    "        LOAD CSV WITH HEADERS FROM $url AS row\n",
    "        MERGE (kit:Kit {uniqueID: row.UniqueID})\n",
    "        ON CREATE SET\n",
    "          kit.name = row.Name,\n",
    "          kit.url = row.url,\n",
    "          kit.imageSrc = row['image_src'],\n",
    "          kit.recommendedEngines = row['Recommended Engines'],\n",
    "          kit.projectedMaxAltitude = row['Projected Max Altitude'],\n",
    "          kit.recoverySystem = row['Recovery System'],\n",
    "          kit.length = toFloat(row.Length),\n",
    "          kit.diameter = toFloat(row.Diameter),\n",
    "          kit.estimatedWeight = toFloat(row['Estimated Weight']),\n",
    "          kit.estimatedAssemblyTime = row['Estimated Assembly Time'],\n",
    "          kit.finMaterials = row['Fin Materials'],\n",
    "          kit.decalType = row['Decal Type'],\n",
    "          kit.launchSystem = row['Launch System'],\n",
    "          kit.launchRodSize = row['Launch Rod Size'],\n",
    "          kit.instructions = row.instructions,\n",
    "          kit.ageRecommendation = row['Age Recommendation'],\n",
    "          kit.mfgID = row.mfgID,\n",
    "          kit.height = toFloat(row.Height),\n",
    "          kit.weight = toFloat(row.Weight),\n",
    "          kit.motorMount = row['Motor Mount'],\n",
    "          kit.parachuteSize = row['Parachute Size'],\n",
    "          kit.shockCordType = row['Shock Cord Type'],\n",
    "          kit.shockCordMount = row['Shock Cord Mount'],\n",
    "          kit.finThickness = toFloat(row['Fin Thickness']),\n",
    "          kit.ringThickness = toFloat(row['Ring Thickness']),\n",
    "          kit.instructionsUrl = row.Instructions,\n",
    "          kit.price = toFloat(row.Price),\n",
    "          kit.currency = row.Currency,\n",
    "          kit.sku = row.SKU,\n",
    "          kit.stockStatus = row['Stock Status'],\n",
    "          kit.description = row.Description,\n",
    "          kit.links = row.Links,\n",
    "          kit.parachute = row.Parachute,\n",
    "          kit.finArray = row['Fin Array'],\n",
    "          // Using CASE to conditionally set the complexity property\n",
    "          kit.complexity = CASE WHEN row.Complexity IS NOT NULL THEN row.Complexity ELSE NULL END;\n",
    "        \"\"\",\n",
    "    \"load_rocket\": \"\"\"\n",
    "        LOAD CSV WITH HEADERS FROM $url AS line\n",
    "        CREATE (:Rocket {id: line.id, name: line.name, mfgID: line.mfgID, image: line.image})\n",
    "        \"\"\",\n",
    "    \"load_model\": \"\"\"\n",
    "        LOAD CSV WITH HEADERS FROM $url AS line\n",
    "        CREATE (:Model:Rocket {name: line.name, id: line.id, image: line.image})\n",
    "        \"\"\",\n",
    "    \"load_design\": \"\"\"\n",
    "        LOAD CSV WITH HEADERS FROM $url AS line\n",
    "        CREATE (:Design \n",
    "          { id: line.id, \n",
    "            rocket: line.rocket, \n",
    "            name: line.name, \n",
    "            filename: line.filename, \n",
    "            fileURL: line.fileURL,\n",
    "            stages: toInteger(line.stages),\n",
    "            massEmpty: toFloat(line.massEmpty),\n",
    "            stabilityCal: toFloat(line.stabilityCal),\n",
    "            stabilityPct: toFloat(line.stabilityPct),\n",
    "            cg: toFloat(line.cg),\n",
    "            cp: toFloat(line.cp),\n",
    "            length: toFloat(line.length),\n",
    "            maxDiameter: toFloat(line.maxDiameter)\n",
    "          })\n",
    "        \"\"\",\n",
    "    \"mfg_makes_motor\":  \"\"\"\n",
    "        MATCH (manufacturer:Manufacturer), (motor:Motor) \n",
    "        WHERE motor.mfgID = manufacturer.mfgID \n",
    "        MERGE (manufacturer)-[:MAKES]->(motor);\n",
    "        \"\"\",\n",
    "    \"mfg_makes_kit\": \"\"\"\n",
    "        MATCH (manufacturer:Manufacturer), (kit:Kit)\n",
    "        WHERE kit.mfgID = manufacturer.mfgID \n",
    "        MERGE (manufacturer)-[:MAKES]->(kit);\n",
    "        \"\"\",\n",
    "    \"mfg_makes_rocket\": \"\"\"\n",
    "        MATCH (manufacturer:Manufacturer), (rocket:Rocket)\n",
    "        WHERE rocket.mfgID = manufacturer.mfgID \n",
    "        MERGE (manufacturer)-[:MAKES]->(rocket);\n",
    "        \"\"\",\n",
    "    \"vorb_lone\": \"\"\"\n",
    "        MATCH (r:Rocket {mfgID: 'vorb', id: 'launcherone'}), (m:Model {id: 'lone'})\n",
    "        MERGE (m)-[:BASED_ON]->(r)\n",
    "        \"\"\",\n",
    "    \"hughes_aim54\": \"\"\"\n",
    "        MATCH (r:Rocket {mfgID: 'hughes', id: 'aim54a'}), (m:Model {id: 'phx'})\n",
    "        MERGE (m)-[:BASED_ON]->(r)\n",
    "        \"\"\",\n",
    "    \"aim54_kit\": \"\"\"\n",
    "        MATCH (k:Kit {uniqueID: '9e295916-5309-4471-847d-4d42c814a806'}), (m:Model {id: 'phx'})\n",
    "        MERGE (m)-[:BASED_ON]->(k)\n",
    "        \"\"\",\n",
    "    \"person_models\": \"\"\"\n",
    "        MATCH (p:Person {id: \"kp_878e41a7d93846cca23114ad549e8126\"}), (m:Model)\n",
    "        WHERE m.id IN ['lone', 'phx', 'bfhr']\n",
    "        MERGE (p)-[:OWNS]->(m)\n",
    "        \"\"\"\n",
    "}"
   ]
  },
  {
   "cell_type": "markdown",
   "metadata": {},
   "source": [
    "## Query Execution"
   ]
  },
  {
   "cell_type": "code",
   "execution_count": null,
   "metadata": {},
   "outputs": [],
   "source": [
    "def execute_query(driver, query_key, parameters=None):\n",
    "    with driver.session() as session:\n",
    "        result = session.execute_write(lambda tx: tx.run(queries[query_key], parameters))\n",
    "        return result"
   ]
  },
  {
   "cell_type": "markdown",
   "metadata": {},
   "source": [
    "## Data Loading"
   ]
  },
  {
   "cell_type": "code",
   "execution_count": null,
   "metadata": {},
   "outputs": [],
   "source": [
    "execute_query(driver, \"clear_graph\")\n",
    "\n",
    "# Nodes\n",
    "execute_query(driver, \"load_mfg\", {\"url\": \"file:///manufacturers.csv\"})\n",
    "execute_query(driver, \"load_motor\", {\"url\": \"file:///motors.csv\"})\n",
    "execute_query(driver, \"load_kit\", {\"url\": \"file:///kits.csv\"})\n",
    "execute_query(driver, \"load_rocket\", {\"url\": \"file:///rockets.csv\"})\n",
    "execute_query(driver, \"load_person\")\n",
    "execute_query(driver, \"load_model\", {\"url\": \"file:///models.csv\"})\n",
    "execute_query(driver, \"load_design\", {\"url\": \"file:///designs.csv\"})\n",
    "\n",
    "# Relationships\n",
    "execute_query(driver, \"mfg_makes_motor\")\n",
    "execute_query(driver, \"mfg_makes_kit\")\n",
    "execute_query(driver, \"mfg_makes_rocket\")\n",
    "\n",
    "# Hacks\n",
    "execute_query(driver, \"vorb_lone\")\n",
    "execute_query(driver, \"hughes_aim54\")\n",
    "execute_query(driver, \"aim54_kit\")\n",
    "execute_query(driver, \"person_models\")"
   ]
  },
  {
   "cell_type": "markdown",
   "metadata": {},
   "source": [
    "## Validation\n",
    "\n",
    "After loading the data, include steps to validate the import process (e.g., count nodes and relationships).\n",
    "\n",
    "```python\n",
    "# Example validation query\n",
    "result = execute_query(driver, \"count_people\")  # Assume you have defined this query\n",
    "for record in result:\n",
    "    print(\"Number of people:\", record[\"count\"])\n",
    "```\n",
    "\n",
    "Add a concluding Markdown cell summarizing the work done and any observations or next steps."
   ]
  },
  {
   "cell_type": "markdown",
   "metadata": {},
   "source": [
    "## Cleanup"
   ]
  },
  {
   "cell_type": "code",
   "execution_count": null,
   "metadata": {},
   "outputs": [],
   "source": [
    "driver.close()"
   ]
  }
 ],
 "metadata": {
  "kernelspec": {
   "display_name": "Python 3",
   "language": "python",
   "name": "python3"
  },
  "language_info": {
   "codemirror_mode": {
    "name": "ipython",
    "version": 3
   },
   "file_extension": ".py",
   "mimetype": "text/x-python",
   "name": "python",
   "nbconvert_exporter": "python",
   "pygments_lexer": "ipython3",
   "version": "3.11.6"
  }
 },
 "nbformat": 4,
 "nbformat_minor": 2
}
