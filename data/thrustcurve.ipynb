{
 "cells": [
  {
   "cell_type": "markdown",
   "metadata": {},
   "source": [
    "# Imports and Functions"
   ]
  },
  {
   "cell_type": "code",
   "execution_count": 5,
   "metadata": {},
   "outputs": [],
   "source": [
    "import requests\n",
    "import pandas as pd\n",
    "import csv"
   ]
  },
  {
   "cell_type": "code",
   "execution_count": 6,
   "metadata": {},
   "outputs": [],
   "source": [
    "def save_to_csv(data, filename):\n",
    "    # Extract all unique keys from the data\n",
    "    fieldnames = set()\n",
    "    for item in data:\n",
    "        fieldnames.update(item.keys())\n",
    "\n",
    "    with open(filename, mode='w', newline='', encoding='utf-8') as file:\n",
    "        writer = csv.DictWriter(file, fieldnames=fieldnames)\n",
    "        writer.writeheader()\n",
    "        for item in data:\n",
    "            # Fill missing fields with None or a default value\n",
    "            row = {field: item.get(field, None) for field in fieldnames}\n",
    "            writer.writerow(row)\n",
    "\n",
    "def fetch_motor_data():\n",
    "    url = \"https://www.thrustcurve.org/api/v1/search.json\"\n",
    "    headers = {\n",
    "        \"Content-Type\": \"application/json\",\n",
    "    }\n",
    "    payload = {\n",
    "        \"maxResults\": \"1500\"\n",
    "    }\n",
    "\n",
    "    response = requests.post(url, json=payload, headers=headers)\n",
    "    response_data = response.json()  # Automatically decode JSON\n",
    "\n",
    "    return response_data['results']\n",
    "\n",
    "def fetch_thrust_samples(motor_ids):\n",
    "    url = \"http://www.thrustcurve.org/api/v1/download.json\"\n",
    "    headers = {\"Content-Type\": \"application/json\"}\n",
    "    data = {\n",
    "        \"motorIds\": motor_ids,\n",
    "        \"format\": \"RASP\",\n",
    "        \"data\": \"samples\",\n",
    "        \"maxResults\": 100\n",
    "    }\n",
    "    response = requests.post(url, json=data, headers=headers)\n",
    "    if response.status_code == 200:\n",
    "        return response.json()\n",
    "    else:\n",
    "        print(f\"Error fetching data for MotorIds {motor_ids}: {response.status_code}\")\n",
    "        return None"
   ]
  },
  {
   "cell_type": "markdown",
   "metadata": {},
   "source": [
    "## Metadata\n",
    "\n",
    "Start off with the metadata for cert orgs, diameters, manufacturers, etc."
   ]
  },
  {
   "cell_type": "code",
   "execution_count": 7,
   "metadata": {},
   "outputs": [],
   "source": [
    "api_url = 'https://www.thrustcurve.org/api/v1/metadata.json'\n",
    "\n",
    "# Send a GET request to the API\n",
    "response = requests.get(api_url)\n",
    "data = response.json() \n",
    "\n",
    "# Iterate over each key in the JSON data\n",
    "for key in data.keys():\n",
    "    if isinstance(data[key], list) and data[key]:\n",
    "        filename = f\"./data_raw/{key}.csv\"\n",
    "        df = pd.DataFrame(data[key])\n",
    "        df.to_csv(filename, index=False)"
   ]
  },
  {
   "cell_type": "code",
   "execution_count": 8,
   "metadata": {},
   "outputs": [],
   "source": [
    "# Fetch motor data from API\n",
    "data = fetch_motor_data()\n",
    "save_to_csv(data, './data_raw/rocket_motors.csv')\n",
    "\n",
    "n = 100  # Number of motorIds to fetch per batch\n",
    "df_motors = pd.read_csv('./data_raw/rocket_motors.csv')\n",
    "motor_ids = df_motors['motorId'].unique().tolist()\n",
    "batches = [motor_ids[i:i + n] for i in range(0, len(motor_ids), n)]\n",
    "all_records = []\n",
    "\n",
    "for batch in batches:\n",
    "    response = fetch_thrust_samples(batch)\n",
    "    if response:\n",
    "        grouped_results = {}\n",
    "        for item in response.get('results', []):\n",
    "            motorId = item.get('motorId')\n",
    "            if motorId not in grouped_results:\n",
    "                grouped_results[motorId] = item\n",
    "            elif item.get('source') == 'cert':  # Prioritize cert source\n",
    "                grouped_results[motorId] = item\n",
    "                \n",
    "        for motorId, item in grouped_results.items():\n",
    "            samples = item.get('samples', [])\n",
    "            for sample in samples:\n",
    "                all_records.append({'motorId': motorId, 'time': sample.get('time'), 'thrust': sample.get('thrust')})\n",
    "\n",
    "# Convert all_records to a DataFrame and save\n",
    "df_results = pd.DataFrame(all_records)\n",
    "df_results.to_csv('./data_raw/thrust_samples.csv', index=False)"
   ]
  }
 ],
 "metadata": {
  "kernelspec": {
   "display_name": "Python 3",
   "language": "python",
   "name": "python3"
  },
  "language_info": {
   "codemirror_mode": {
    "name": "ipython",
    "version": 3
   },
   "file_extension": ".py",
   "mimetype": "text/x-python",
   "name": "python",
   "nbconvert_exporter": "python",
   "pygments_lexer": "ipython3",
   "version": "3.11.6"
  }
 },
 "nbformat": 4,
 "nbformat_minor": 2
}
