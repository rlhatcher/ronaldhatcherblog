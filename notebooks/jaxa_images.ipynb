{
 "cells": [
  {
   "cell_type": "markdown",
   "metadata": {},
   "source": [
    "Utility to create a .jpg from a reference added to Zotero from https://www.isas.jaxa.jp/j/japan_s_history/picture/index.shtml "
   ]
  },
  {
   "cell_type": "code",
   "execution_count": 12,
   "metadata": {},
   "outputs": [
    {
     "name": "stdout",
     "output_type": "stream",
     "text": [
      "Image saved as Center_of_gravity_measurement_landscape_MichikawaAkita_Rocket_Experiment_Station.jpg\n"
     ]
    }
   ],
   "source": [
    "import base64\n",
    "from bs4 import BeautifulSoup\n",
    "import os\n",
    "import re\n",
    "\n",
    "# Path to your local HTML file\n",
    "file_path = \"/Users/ron/Zotero/storage/D82D4QDG/index.html\"\n",
    "\n",
    "# Open and read the HTML file\n",
    "with open(file_path, 'r') as file:\n",
    "    html_content = file.read()\n",
    "\n",
    "# Create a BeautifulSoup object\n",
    "soup = BeautifulSoup(html_content, 'html.parser')\n",
    "\n",
    "# Find the 'shadowbox_title' div and extract the text\n",
    "title_div = soup.find('div', id='shadowbox_title')\n",
    "if title_div:\n",
    "    title_text = title_div.get_text(strip=True)\n",
    "    # Remove any characters not suitable for filenames\n",
    "    safe_title = re.sub('[^a-zA-Z0-9 \\n\\.]', '', title_text).replace(' ', '_')\n",
    "else:\n",
    "    safe_title = 'output_image'\n",
    "\n",
    "# Find the 'shadowbox_body' div\n",
    "shadowbox_div = soup.find('div', id='shadowbox_body')\n",
    "\n",
    "if shadowbox_div:\n",
    "    # Find the img tag within the 'shadowbox_body' div\n",
    "    img_tag = shadowbox_div.find('img')\n",
    "\n",
    "    if img_tag and img_tag.get('src'):\n",
    "        # Get the 'src' attribute\n",
    "        src_attribute = img_tag['src']\n",
    "\n",
    "        # Split the 'src' attribute to separate the metadata from the Base64 data\n",
    "        base64_data = src_attribute.split(\",\")[1]\n",
    "\n",
    "        # Decode the Base64 data\n",
    "        image_data = base64.b64decode(base64_data)\n",
    "\n",
    "        # Ensure the filename ends with .jpg\n",
    "        filename = f\"{safe_title}.jpg\" if not safe_title.lower().endswith('.jpg') else safe_title\n",
    "\n",
    "        # Save the image\n",
    "        with open(\"jaxa_images/\" + filename, \"wb\") as img_file:\n",
    "            img_file.write(image_data)\n",
    "\n",
    "        print(f\"Image saved as {filename}\")\n",
    "    else:\n",
    "        print(\"'shadowbox_body' div found, but no image tag or src attribute found\")\n",
    "else:\n",
    "    print(\"'shadowbox_body' div not found\")\n"
   ]
  }
 ],
 "metadata": {
  "kernelspec": {
   "display_name": "Python 3",
   "language": "python",
   "name": "python3"
  },
  "language_info": {
   "codemirror_mode": {
    "name": "ipython",
    "version": 3
   },
   "file_extension": ".py",
   "mimetype": "text/x-python",
   "name": "python",
   "nbconvert_exporter": "python",
   "pygments_lexer": "ipython3",
   "version": "3.10.3"
  }
 },
 "nbformat": 4,
 "nbformat_minor": 2
}
