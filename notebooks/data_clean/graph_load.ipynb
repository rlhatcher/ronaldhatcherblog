{
 "cells": [
  {
   "cell_type": "code",
   "execution_count": null,
   "metadata": {},
   "outputs": [],
   "source": [
    "from neo4j import GraphDatabase\n",
    "uri = \"bolt://localhost:7687\"\n",
    "pwd = \"password\"\n",
    "\n",
    "driver = GraphDatabase.driver(uri, auth=(\"neo4j\", pwd))\n",
    "\n",
    "query = \"MATCH (n) RETURN COUNT(n)\"\n",
    "\n",
    "with driver.session() as session:\n",
    "    result = session.run(query)\n",
    "    print(result.single()[\"COUNT(n)\"])"
   ]
  },
  {
   "cell_type": "code",
   "execution_count": 7,
   "metadata": {},
   "outputs": [],
   "source": [
    "query = \"\"\"\n",
    "LOAD CSV WITH HEADERS FROM 'file:///kits.csv' AS row\n",
    "MERGE (kit:Kit {uniqueID: row.UniqueID})\n",
    "ON CREATE SET\n",
    "  kit.name = row.Name,\n",
    "  kit.url = row.url,\n",
    "  kit.imageSrc = row['image_src'],\n",
    "  kit.recommendedEngines = row['Recommended Engines'],\n",
    "  kit.projectedMaxAltitude = row['Projected Max Altitude'],\n",
    "  kit.recoverySystem = row['Recovery System'],\n",
    "  kit.length = toFloat(row.Length),\n",
    "  kit.diameter = toFloat(row.Diameter),\n",
    "  kit.estimatedWeight = toFloat(row['Estimated Weight']),\n",
    "  kit.estimatedAssemblyTime = row['Estimated Assembly Time'],\n",
    "  kit.finMaterials = row['Fin Materials'],\n",
    "  kit.decalType = row['Decal Type'],\n",
    "  kit.launchSystem = row['Launch System'],\n",
    "  kit.launchRodSize = row['Launch Rod Size'],\n",
    "  kit.instructions = row.instructions,\n",
    "  kit.ageRecommendation = row['Age Recommendation'],\n",
    "  kit.mfgID = row.mfgID,\n",
    "  kit.height = toFloat(row.Height),\n",
    "  kit.weight = toFloat(row.Weight),\n",
    "  kit.motorMount = row['Motor Mount'],\n",
    "  kit.parachuteSize = row['Parachute Size'],\n",
    "  kit.shockCordType = row['Shock Cord Type'],\n",
    "  kit.shockCordMount = row['Shock Cord Mount'],\n",
    "  kit.finThickness = toFloat(row['Fin Thickness']),\n",
    "  kit.ringThickness = toFloat(row['Ring Thickness']),\n",
    "  kit.instructionsUrl = row.Instructions,\n",
    "  kit.price = toFloat(row.Price),\n",
    "  kit.currency = row.Currency,\n",
    "  kit.sku = row.SKU,\n",
    "  kit.stockStatus = row['Stock Status'],\n",
    "  kit.description = row.Description,\n",
    "  kit.links = row.Links,\n",
    "  kit.parachute = row.Parachute,\n",
    "  kit.finArray = row['Fin Array'],\n",
    "  // Using CASE to conditionally set the complexity property\n",
    "  kit.complexity = CASE WHEN row.Complexity IS NOT NULL THEN row.Complexity ELSE NULL END;\n",
    "\"\"\"\n",
    "\n",
    "with driver.session() as session:\n",
    "    result = session.run(query)"
   ]
  },
  {
   "cell_type": "markdown",
   "metadata": {},
   "source": [
    "Add our relationships\n"
   ]
  },
  {
   "cell_type": "code",
   "execution_count": null,
   "metadata": {},
   "outputs": [],
   "source": [
    "query = \"MATCH (manufacturer:Manufacturer), (motor:Motor) WHERE motor.mfgID = manufacturer.mfgID MERGE (manufacturer)-[:MAKES]->(motor);\"\n",
    "with driver.session() as session:\n",
    "    result = session.run(query)\n",
    "\n"
   ]
  },
  {
   "cell_type": "code",
   "execution_count": 8,
   "metadata": {},
   "outputs": [],
   "source": [
    "query = \"MATCH (manufacturer:Manufacturer), (kit:Kit) WHERE kit.mfgID = manufacturer.mfgID MERGE (manufacturer)-[:MAKES]->(kit);\"\n",
    "with driver.session() as session:\n",
    "    result = session.run(query)"
   ]
  }
 ],
 "metadata": {
  "kernelspec": {
   "display_name": "Python 3",
   "language": "python",
   "name": "python3"
  },
  "language_info": {
   "codemirror_mode": {
    "name": "ipython",
    "version": 3
   },
   "file_extension": ".py",
   "mimetype": "text/x-python",
   "name": "python",
   "nbconvert_exporter": "python",
   "pygments_lexer": "ipython3",
   "version": "3.11.6"
  }
 },
 "nbformat": 4,
 "nbformat_minor": 2
}
