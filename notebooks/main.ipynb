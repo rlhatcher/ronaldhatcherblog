{
 "cells": [
  {
   "cell_type": "markdown",
   "id": "31dcc857",
   "metadata": {},
   "source": [
    "\n",
    "# Cleaning CSV with Unbalanced Quotes\n",
    "\n",
    "This notebook demonstrates how to clean a CSV file containing unbalanced double-quote characters in each comma-separated section.\n"
   ]
  },
  {
   "cell_type": "markdown",
   "id": "f2196d63",
   "metadata": {},
   "source": [
    "\n",
    "## Approach\n",
    "\n",
    "1. Read the CSV file line by line.\n",
    "2. For each line, process each comma-separated section to remove unbalanced double-quote characters.\n",
    "3. Parse the corrected lines into a pandas DataFrame.\n"
   ]
  },
  {
   "cell_type": "markdown",
   "id": "96dbc69a",
   "metadata": {},
   "source": [
    "## Import Necessary Libraries"
   ]
  },
  {
   "cell_type": "code",
   "execution_count": null,
   "id": "be9b14ad",
   "metadata": {},
   "outputs": [],
   "source": [
    "\n",
    "import pandas as pd\n",
    "from io import StringIO\n"
   ]
  },
  {
   "cell_type": "markdown",
   "id": "9f88aa67",
   "metadata": {},
   "source": [
    "## Define the Cleaning Function"
   ]
  },
  {
   "cell_type": "code",
   "execution_count": null,
   "id": "f0e20f25",
   "metadata": {},
   "outputs": [],
   "source": [
    "\n",
    "def clean_line(line):\n",
    "    sections = line.split(',')\n",
    "    cleaned_sections = []\n",
    "    for section in sections:\n",
    "        if section.count('\"') % 2 != 0:  # Check if the quotes are unbalanced\n",
    "            section = section.replace('\"', '')  # Remove all double quotes\n",
    "        cleaned_sections.append(section)\n",
    "    return ','.join(cleaned_sections)\n"
   ]
  },
  {
   "cell_type": "markdown",
   "id": "3b55b29e",
   "metadata": {},
   "source": [
    "## Load and Clean the CSV File"
   ]
  },
  {
   "cell_type": "code",
   "execution_count": null,
   "id": "5bafcc2d",
   "metadata": {},
   "outputs": [],
   "source": [
    "\n",
    "def load_and_clean_csv(file_path):\n",
    "    cleaned_lines = []\n",
    "    with open(file_path, 'r', encoding='utf-8') as file:\n",
    "        for line in file:\n",
    "            cleaned_line = clean_line(line.strip())\n",
    "            cleaned_lines.append(cleaned_line)\n",
    "    cleaned_content = '\\n'.join(cleaned_lines)\n",
    "    file_like_object = StringIO(cleaned_content)\n",
    "    df = pd.read_csv(file_like_object)\n",
    "    return df\n"
   ]
  },
  {
   "cell_type": "markdown",
   "id": "7d89155a",
   "metadata": {},
   "source": [
    "## Example Usage"
   ]
  },
  {
   "cell_type": "code",
   "execution_count": null,
   "id": "f51f417c",
   "metadata": {},
   "outputs": [],
   "source": [
    "\n",
    "# Replace 'path_to_your_csv_file.csv' with the actual path to your CSV file\n",
    "file_path = 'path_to_your_csv_file.csv'\n",
    "df = load_and_clean_csv(file_path)\n",
    "print(df)\n"
   ]
  }
 ],
 "metadata": {},
 "nbformat": 4,
 "nbformat_minor": 5
}
