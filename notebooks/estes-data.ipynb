{
 "cells": [
  {
   "cell_type": "code",
   "execution_count": null,
   "metadata": {},
   "outputs": [],
   "source": [
    "%pip install beautifulsoup4\n",
    "%pip install cloudscraper"
   ]
  },
  {
   "cell_type": "code",
   "execution_count": null,
   "metadata": {},
   "outputs": [],
   "source": [
    "import csv\n",
    "import logging\n",
    "import time\n",
    "import pandas as pd\n",
    "from bs4 import BeautifulSoup\n",
    "import cloudscraper\n",
    "from urllib.request import Request, urlopen\n",
    "from urllib.error import HTTPError\n",
    "from urllib.parse import urlparse"
   ]
  },
  {
   "cell_type": "markdown",
   "metadata": {},
   "source": [
    "Define our params before jumping in\n"
   ]
  },
  {
   "cell_type": "code",
   "execution_count": null,
   "metadata": {},
   "outputs": [],
   "source": [
    "logging.basicConfig(level=logging.DEBUG)\n",
    "base_url = 'https://help.estesrockets.com'"
   ]
  },
  {
   "cell_type": "markdown",
   "metadata": {},
   "source": [
    "## Main Kit links\n",
    "\n",
    "This function gets the kit links for a page and looks for a _next page_ link, navigating to each page recursively.\n"
   ]
  },
  {
   "cell_type": "code",
   "execution_count": null,
   "metadata": {},
   "outputs": [],
   "source": [
    "def get_links(url):\n",
    "    time.sleep(1)  # Adding a delay\n",
    "\n",
    "    full_url = base_url + url\n",
    "    scraper = cloudscraper.create_scraper(delay=10, browser='chrome')\n",
    "    info = scraper.get(full_url).text\n",
    "    soup = BeautifulSoup(info, \"html.parser\")\n",
    "\n",
    "    links = soup.find_all('a', class_='article-list-link')\n",
    "    extracted_links = [(link['href'], link.get_text()) for link in links]\n",
    "\n",
    "    next_page = soup.find('a', class_='pagination-next-link')\n",
    "    if next_page and 'href' in next_page.attrs:\n",
    "        extracted_links += get_links(next_page['href'])\n",
    "\n",
    "    return extracted_links"
   ]
  },
  {
   "cell_type": "markdown",
   "metadata": {},
   "source": [
    "## Kit Details\n"
   ]
  },
  {
   "cell_type": "code",
   "execution_count": null,
   "metadata": {},
   "outputs": [],
   "source": [
    "def get_kit_info(url):\n",
    "    time.sleep(1)  # Adding a delay\n",
    "\n",
    "    full_url = base_url + url\n",
    "    scraper = cloudscraper.create_scraper(delay=10, browser='chrome')\n",
    "    info = scraper.get(full_url).text\n",
    "    soup = BeautifulSoup(info, 'html.parser')\n",
    "\n",
    "    # Extract image source URL from the 'article-body' class\n",
    "    image_src = soup.find('div', class_='article-body').find('img')['src']\n",
    "\n",
    "    # Extract description and product URL\n",
    "    article_body = soup.find('div', class_='article-body')\n",
    "    description, product_url = None, None\n",
    "    for p_tag in article_body.find_all('p', recursive=False):\n",
    "        if 'Purchase Link' in p_tag.text:\n",
    "            product_url = p_tag.find('a')['href'] if p_tag.find('a') else None\n",
    "        elif not p_tag.find():\n",
    "            description = p_tag.get_text().strip()\n",
    "\n",
    "    # Extract key features from the product attributes table\n",
    "    features = {}\n",
    "    table = soup.find(\n",
    "        'table', class_='woocommerce-product-attributes shop_attributes')\n",
    "    if table:\n",
    "        for row in table.find_all('tr'):\n",
    "            feature_name = row.find('th').get_text().strip()\n",
    "            feature_value = row.find('td').get_text().strip()\n",
    "            if feature_name:\n",
    "                features[feature_name] = feature_value\n",
    "\n",
    "    # Extract the instructions PDF link\n",
    "    instructions_pdf = soup.find('div', class_='article-attachments').find(\n",
    "        'a')['href'] if soup.find('div', class_='article-attachments') else None\n",
    "\n",
    "    return {\n",
    "        \"description\": description,\n",
    "        \"image_src\": image_src,\n",
    "        \"features\": features,\n",
    "        \"instructions\": instructions_pdf,\n",
    "        \"product_url\": product_url\n",
    "    }"
   ]
  },
  {
   "cell_type": "markdown",
   "metadata": {},
   "source": [
    "## Dataset writer\n",
    "\n",
    "Creates a csv file and writes the links data using the fields as column headings.\n"
   ]
  },
  {
   "cell_type": "code",
   "execution_count": null,
   "metadata": {},
   "outputs": [],
   "source": [
    "import re\n",
    "\n",
    "\n",
    "def write_dataset(filename, links, fields):\n",
    "    with open(filename, 'w', newline='', encoding='utf-8') as csvfile:\n",
    "        writer = csv.DictWriter(csvfile, fieldnames=fields)\n",
    "\n",
    "        writer.writeheader()  # Write the fieldnames as a header\n",
    "        for href, text in links:\n",
    "            match = re.match(r\"(\\d{1,4})\\s*-?\\s*(.*)\", text)\n",
    "            if match:\n",
    "                model = match.group(1)\n",
    "                # Remove leading dash and space, if any\n",
    "                name = match.group(2).lstrip(\"– \").strip()\n",
    "            else:\n",
    "                model = 'Unknown'\n",
    "                name = text\n",
    "            writer.writerow({'URL': href, 'Model': model, 'Name': name})"
   ]
  },
  {
   "cell_type": "markdown",
   "metadata": {},
   "source": [
    "## Kit details\n",
    "\n",
    "### Fieldnames\n",
    "\n",
    "Define the fields to use for our CSV columns\n"
   ]
  },
  {
   "cell_type": "code",
   "execution_count": null,
   "metadata": {},
   "outputs": [],
   "source": [
    "fieldnames = [\n",
    "    \"url\",\n",
    "    \"description\",\n",
    "    \"image_src\",\n",
    "    \"Recommended Engines\",\n",
    "    \"Projected Max Altitude\",\n",
    "    \"Recovery System\",\n",
    "    \"Length\",\n",
    "    \"Diameter\",\n",
    "    \"Estimated Weight\",\n",
    "    \"Estimated Assembly Time\",\n",
    "    \"Fin Materials\",\n",
    "    \"Decal Type\",\n",
    "    \"Launch System\",\n",
    "    \"Launch Rod Size\",\n",
    "    \"instructions\",\n",
    "    \"Construction\",\n",
    "    \"Wingspan\",\n",
    "    \"Age Recommendation\",\n",
    "    \"Launch Rod System\",\n",
    "    \"Recovery\",\n",
    "    \"Fin Material\",\n",
    "    \"Estimated Assembly Weight\",\n",
    "    \"product_url\"\n",
    "]"
   ]
  },
  {
   "cell_type": "markdown",
   "metadata": {},
   "source": [
    "### process_csv\n",
    "\n",
    "Reads URLs from an input CSV (1st column) and writes kit details to an output CSV\n",
    "\n",
    "Features are sparsely populated\n"
   ]
  },
  {
   "cell_type": "code",
   "execution_count": null,
   "metadata": {},
   "outputs": [],
   "source": [
    "def process_csv(file_path, output_file_path):\n",
    "\n",
    "    with open(file_path, newline='', encoding='utf-8') as csvfile, \\\n",
    "            open(output_file_path, 'w', newline='', encoding='utf-8') as outfile:\n",
    "        reader = csv.reader(csvfile)\n",
    "        writer = csv.DictWriter(outfile, fieldnames=fieldnames)\n",
    "        writer.writeheader()\n",
    "\n",
    "        next(reader)  # Skip the header row\n",
    "\n",
    "        for row in reader:\n",
    "            url = row[0]\n",
    "            kit_info = get_kit_info(url)\n",
    "            # Flatten the 'features' dictionary\n",
    "            flattened_features = {k: v for k,\n",
    "                                  v in kit_info['features'].items()}\n",
    "\n",
    "            # Merge all data into a single dictionary\n",
    "            row_data = {'url': url, **flattened_features,\n",
    "                        'description': kit_info['description'], 'image_src': kit_info['image_src'], 'instructions': kit_info['instructions'], 'product_url': kit_info['product_url']}\n",
    "            writer.writerow(row_data)"
   ]
  },
  {
   "cell_type": "markdown",
   "metadata": {},
   "source": [
    "## Estes Production Kit Data\n",
    "\n",
    "retrieves in producrtion kit names, models and urls to kit detail pages\n"
   ]
  },
  {
   "cell_type": "code",
   "execution_count": null,
   "metadata": {},
   "outputs": [],
   "source": [
    "all_links = get_links(\n",
    "    '/hc/en-us/sections/8356411218829-Currently-Manufactured-Rockets')\n",
    "fieldnames = ['URL', 'Model', 'Name']  # Define your fieldnames\n",
    "write_dataset('estes_kits.csv', all_links, fieldnames)"
   ]
  },
  {
   "cell_type": "markdown",
   "metadata": {},
   "source": [
    "### production kit details\n",
    "\n",
    "Get the detail for all the production kits\n"
   ]
  },
  {
   "cell_type": "code",
   "execution_count": null,
   "metadata": {},
   "outputs": [],
   "source": [
    "process_csv('estes_kits.csv', 'Estes_kits_detail.csv')"
   ]
  },
  {
   "cell_type": "markdown",
   "metadata": {},
   "source": [
    "## Estes Out of Production Kit Data\n",
    "\n",
    "Gets a list of OOP kits\n"
   ]
  },
  {
   "cell_type": "code",
   "execution_count": null,
   "metadata": {},
   "outputs": [],
   "source": [
    "all_links = get_links(\n",
    "    '/hc/en-us/sections/8356482425613-Out-of-Production-Kits')\n",
    "fieldnames = ['URL', 'Model', 'Name']  # Define your fieldnames\n",
    "write_dataset('estes_kits_oop.csv', all_links, fieldnames)"
   ]
  },
  {
   "cell_type": "markdown",
   "metadata": {},
   "source": [
    "### Out of production kit details\n",
    "\n",
    "Nothing here except a link to the instructions pdf\n"
   ]
  },
  {
   "cell_type": "code",
   "execution_count": null,
   "metadata": {},
   "outputs": [],
   "source": [
    "# process_csv('estes_kits_oop.csv', 'Estes_kits_detail_oop.csv')"
   ]
  },
  {
   "cell_type": "markdown",
   "metadata": {},
   "source": [
    "## Classroom/Bulk Kits\n"
   ]
  },
  {
   "cell_type": "code",
   "execution_count": null,
   "metadata": {},
   "outputs": [],
   "source": [
    "all_links = get_links(\n",
    "    '/hc/en-us/sections/9025204863373-Classroom-Bulk-Kits')\n",
    "fieldnames = ['URL', 'Model', 'Name']  # Define your fieldnames\n",
    "write_dataset('estes_kits_bulk.csv', all_links, fieldnames)"
   ]
  },
  {
   "cell_type": "markdown",
   "metadata": {},
   "source": [
    "### Bulk kit details\n"
   ]
  },
  {
   "cell_type": "code",
   "execution_count": null,
   "metadata": {},
   "outputs": [],
   "source": [
    "process_csv('estes_kits_bulk.csv', 'Estes_kits_detail_bulk.csv')"
   ]
  }
 ],
 "metadata": {
  "kernelspec": {
   "display_name": "pifarm-3-10.3",
   "language": "python",
   "name": "python3"
  },
  "language_info": {
   "codemirror_mode": {
    "name": "ipython",
    "version": 3
   },
   "file_extension": ".py",
   "mimetype": "text/x-python",
   "name": "python",
   "nbconvert_exporter": "python",
   "pygments_lexer": "ipython3",
   "version": "3.10.3"
  }
 },
 "nbformat": 4,
 "nbformat_minor": 2
}
