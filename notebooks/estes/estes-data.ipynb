{
 "cells": [
  {
   "cell_type": "code",
   "execution_count": 1,
   "metadata": {},
   "outputs": [],
   "source": [
    "import csv\n",
    "import logging\n",
    "import time\n",
    "from bs4 import BeautifulSoup\n",
    "import cloudscraper"
   ]
  },
  {
   "cell_type": "markdown",
   "metadata": {},
   "source": [
    "Define our params before jumping in\n"
   ]
  },
  {
   "cell_type": "code",
   "execution_count": 2,
   "metadata": {},
   "outputs": [],
   "source": [
    "logging.basicConfig(level=logging.DEBUG)\n",
    "base_url = 'https://help.estesrockets.com'"
   ]
  },
  {
   "cell_type": "markdown",
   "metadata": {},
   "source": [
    "## Main Kit links\n",
    "\n",
    "This function gets the kit links for a page and looks for a _next page_ link, navigating to each page recursively.\n"
   ]
  },
  {
   "cell_type": "code",
   "execution_count": 3,
   "metadata": {},
   "outputs": [],
   "source": [
    "def get_links(url):\n",
    "    time.sleep(1)  # Adding a delay\n",
    "\n",
    "    full_url = base_url + url\n",
    "    scraper = cloudscraper.create_scraper(delay=10, browser='chrome')\n",
    "    info = scraper.get(full_url).text\n",
    "    soup = BeautifulSoup(info, \"html.parser\")\n",
    "\n",
    "    links = soup.find_all('a', class_='article-list-link')\n",
    "    extracted_links = [(link['href'], link.get_text()) for link in links]\n",
    "\n",
    "    next_page = soup.find('a', class_='pagination-next-link')\n",
    "    if next_page and 'href' in next_page.attrs:\n",
    "        extracted_links += get_links(next_page['href'])\n",
    "\n",
    "    return extracted_links"
   ]
  },
  {
   "cell_type": "markdown",
   "metadata": {},
   "source": [
    "## Kit Details\n"
   ]
  },
  {
   "cell_type": "code",
   "execution_count": 4,
   "metadata": {},
   "outputs": [],
   "source": [
    "def get_kit_info(url):\n",
    "    time.sleep(1)  # Adding a delay\n",
    "\n",
    "    full_url = base_url + url\n",
    "    scraper = cloudscraper.create_scraper(delay=10, browser='chrome')\n",
    "    info = scraper.get(full_url).text\n",
    "    soup = BeautifulSoup(info, 'html.parser')\n",
    "\n",
    "    # Extract image source URL from the 'article-body' class\n",
    "    image_src = soup.find('div', class_='article-body').find('img')['src']\n",
    "\n",
    "    # Extract description and product URL\n",
    "    article_body = soup.find('div', class_='article-body')\n",
    "    description, product_url = None, None\n",
    "    for p_tag in article_body.find_all('p', recursive=False):\n",
    "        if 'Purchase Link' in p_tag.text:\n",
    "            product_url = p_tag.find('a')['href'] if p_tag.find('a') else None\n",
    "        elif not p_tag.find():\n",
    "            description = p_tag.get_text().strip()\n",
    "\n",
    "    # Extract key features from the product attributes table\n",
    "    features = {}\n",
    "    table = soup.find(\n",
    "        'table', class_='woocommerce-product-attributes shop_attributes')\n",
    "    if table:\n",
    "        for row in table.find_all('tr'):\n",
    "            feature_name = row.find('th').get_text().strip()\n",
    "            feature_value = row.find('td').get_text().strip()\n",
    "            if feature_name:\n",
    "                features[feature_name] = feature_value\n",
    "\n",
    "    # Extract the instructions PDF link\n",
    "    instructions_pdf = soup.find('div', class_='article-attachments').find(\n",
    "        'a')['href'] if soup.find('div', class_='article-attachments') else None\n",
    "\n",
    "    return {\n",
    "        \"description\": description,\n",
    "        \"image_src\": image_src,\n",
    "        \"features\": features,\n",
    "        \"instructions\": instructions_pdf,\n",
    "        \"product_url\": product_url\n",
    "    }"
   ]
  },
  {
   "cell_type": "markdown",
   "metadata": {},
   "source": [
    "## Dataset writer\n",
    "\n",
    "Creates a csv file and writes the links data using the fields as column headings.\n"
   ]
  },
  {
   "cell_type": "code",
   "execution_count": 5,
   "metadata": {},
   "outputs": [],
   "source": [
    "import re\n",
    "\n",
    "\n",
    "def write_dataset(filename, links, fields):\n",
    "    with open(filename, 'w', newline='', encoding='utf-8') as csvfile:\n",
    "        writer = csv.DictWriter(csvfile, fieldnames=fields)\n",
    "\n",
    "        writer.writeheader()  # Write the fieldnames as a header\n",
    "        for href, text in links:\n",
    "            match = re.match(r\"(\\d{1,4})\\s*-?\\s*(.*)\", text)\n",
    "            if match:\n",
    "                model = match.group(1)\n",
    "                # Remove leading dash and space, if any\n",
    "                name = match.group(2).lstrip(\"– \").strip()\n",
    "            else:\n",
    "                model = 'Unknown'\n",
    "                name = text\n",
    "            writer.writerow({'URL': href, 'Model': model, 'Name': name})"
   ]
  },
  {
   "cell_type": "markdown",
   "metadata": {},
   "source": [
    "## Kit details\n",
    "\n",
    "### Fieldnames\n",
    "\n",
    "Define the fields to use for our CSV columns\n"
   ]
  },
  {
   "cell_type": "code",
   "execution_count": 6,
   "metadata": {},
   "outputs": [],
   "source": [
    "fieldnames = [\n",
    "    \"url\",\n",
    "    \"description\",\n",
    "    \"image_src\",\n",
    "    \"Recommended Engines\",\n",
    "    \"Projected Max Altitude\",\n",
    "    \"Recovery System\",\n",
    "    \"Length\",\n",
    "    \"Diameter\",\n",
    "    \"Estimated Weight\",\n",
    "    \"Estimated Assembly Time\",\n",
    "    \"Fin Materials\",\n",
    "    \"Decal Type\",\n",
    "    \"Launch System\",\n",
    "    \"Launch Rod Size\",\n",
    "    \"instructions\",\n",
    "    \"Construction\",\n",
    "    \"Wingspan\",\n",
    "    \"Age Recommendation\",\n",
    "    \"Launch Rod System\",\n",
    "    \"Recovery\",\n",
    "    \"Fin Material\",\n",
    "    \"Estimated Assembly Weight\",\n",
    "    \"product_url\"\n",
    "]"
   ]
  },
  {
   "cell_type": "markdown",
   "metadata": {},
   "source": [
    "### process_csv\n",
    "\n",
    "Reads URLs from an input CSV (1st column) and writes kit details to an output CSV\n",
    "\n",
    "Features are sparsely populated\n"
   ]
  },
  {
   "cell_type": "code",
   "execution_count": 7,
   "metadata": {},
   "outputs": [],
   "source": [
    "def process_csv(file_path, output_file_path):\n",
    "\n",
    "    with open(file_path, newline='', encoding='utf-8') as csvfile, \\\n",
    "            open(output_file_path, 'w', newline='', encoding='utf-8') as outfile:\n",
    "        reader = csv.reader(csvfile, quotechar='\"')\n",
    "        writer = csv.DictWriter(outfile, fieldnames=fieldnames, quotechar=\"'\", quoting=csv.QUOTE_ALL)\n",
    "        writer.writeheader()\n",
    "\n",
    "        next(reader)  # Skip the header row\n",
    "\n",
    "        for row in reader:\n",
    "            url = row[0]\n",
    "            kit_info = get_kit_info(url)\n",
    "            # Flatten the 'features' dictionary\n",
    "            flattened_features = {k: v for k,\n",
    "                                  v in kit_info['features'].items()}\n",
    "\n",
    "            # Merge all data into a single dictionary\n",
    "            row_data = {'url': url, **flattened_features,\n",
    "                        'description': kit_info['description'], 'image_src': kit_info['image_src'], 'instructions': kit_info['instructions'], 'product_url': kit_info['product_url']}\n",
    "            writer.writerow(row_data)"
   ]
  },
  {
   "cell_type": "markdown",
   "metadata": {},
   "source": [
    "## Estes Production Kit Data\n",
    "\n",
    "retrieves in producrtion kit names, models and urls to kit detail pages\n"
   ]
  },
  {
   "cell_type": "code",
   "execution_count": null,
   "metadata": {},
   "outputs": [],
   "source": [
    "all_links = get_links(\n",
    "    '/hc/en-us/sections/8356411218829-Currently-Manufactured-Rockets')\n",
    "fieldnames = ['URL', 'Model', 'Name']  # Define your fieldnames\n",
    "write_dataset('estes_kits.csv', all_links, fieldnames)"
   ]
  },
  {
   "cell_type": "markdown",
   "metadata": {},
   "source": [
    "### production kit details\n",
    "\n",
    "Get the detail for all the production kits\n"
   ]
  },
  {
   "cell_type": "code",
   "execution_count": 8,
   "metadata": {},
   "outputs": [
    {
     "name": "stderr",
     "output_type": "stream",
     "text": [
      "DEBUG:urllib3.connectionpool:Starting new HTTPS connection (1): help.estesrockets.com:443\n",
      "DEBUG:urllib3.connectionpool:https://help.estesrockets.com:443 \"GET /hc/en-us/articles/8637948049165-0651-Der-Red-Max HTTP/1.1\" 200 None\n",
      "DEBUG:urllib3.connectionpool:Starting new HTTPS connection (1): help.estesrockets.com:443\n",
      "DEBUG:urllib3.connectionpool:https://help.estesrockets.com:443 \"GET /hc/en-us/articles/8638305857037-0804-Firehawk HTTP/1.1\" 200 None\n",
      "DEBUG:urllib3.connectionpool:Starting new HTTPS connection (1): help.estesrockets.com:443\n",
      "DEBUG:urllib3.connectionpool:https://help.estesrockets.com:443 \"GET /hc/en-us/articles/8638383712397-0810-220-Swift HTTP/1.1\" 200 None\n",
      "DEBUG:urllib3.connectionpool:Starting new HTTPS connection (1): help.estesrockets.com:443\n",
      "DEBUG:urllib3.connectionpool:https://help.estesrockets.com:443 \"GET /hc/en-us/articles/8638504706317-0816-Luna-Bug HTTP/1.1\" 200 None\n",
      "DEBUG:urllib3.connectionpool:Starting new HTTPS connection (1): help.estesrockets.com:443\n",
      "DEBUG:urllib3.connectionpool:https://help.estesrockets.com:443 \"GET /hc/en-us/articles/8638580644621-0865-Mini-Mean-Machine HTTP/1.1\" 200 None\n",
      "DEBUG:urllib3.connectionpool:Starting new HTTPS connection (1): help.estesrockets.com:443\n",
      "DEBUG:urllib3.connectionpool:https://help.estesrockets.com:443 \"GET /hc/en-us/articles/8638568709261-0886-Gnome HTTP/1.1\" 200 None\n",
      "DEBUG:urllib3.connectionpool:Starting new HTTPS connection (1): help.estesrockets.com:443\n",
      "DEBUG:urllib3.connectionpool:https://help.estesrockets.com:443 \"GET /hc/en-us/articles/8638687992717-1207-Phantom HTTP/1.1\" 200 None\n",
      "DEBUG:urllib3.connectionpool:Starting new HTTPS connection (1): help.estesrockets.com:443\n",
      "DEBUG:urllib3.connectionpool:https://help.estesrockets.com:443 \"GET /hc/en-us/articles/8638766112525-1225-Alpha HTTP/1.1\" 200 None\n",
      "DEBUG:urllib3.connectionpool:Starting new HTTPS connection (1): help.estesrockets.com:443\n",
      "DEBUG:urllib3.connectionpool:https://help.estesrockets.com:443 \"GET /hc/en-us/articles/8639069467277-1250-Interceptor HTTP/1.1\" 200 None\n",
      "DEBUG:urllib3.connectionpool:Starting new HTTPS connection (1): help.estesrockets.com:443\n",
      "DEBUG:urllib3.connectionpool:https://help.estesrockets.com:443 \"GET /hc/en-us/articles/8639073558541-1256-Alpha-III HTTP/1.1\" 200 None\n",
      "DEBUG:urllib3.connectionpool:Starting new HTTPS connection (1): help.estesrockets.com:443\n",
      "DEBUG:urllib3.connectionpool:https://help.estesrockets.com:443 \"GET /hc/en-us/articles/8639154664333-1260-No-2-Estes-Sky-Writer HTTP/1.1\" 200 None\n",
      "DEBUG:urllib3.connectionpool:Starting new HTTPS connection (1): help.estesrockets.com:443\n",
      "DEBUG:urllib3.connectionpool:https://help.estesrockets.com:443 \"GET /hc/en-us/articles/8639157966221-1261-Baby-Bertha HTTP/1.1\" 200 None\n",
      "DEBUG:urllib3.connectionpool:Starting new HTTPS connection (1): help.estesrockets.com:443\n",
      "DEBUG:urllib3.connectionpool:https://help.estesrockets.com:443 \"GET /hc/en-us/articles/9018375343629-1295-Mean-Machine HTTP/1.1\" 200 None\n",
      "DEBUG:urllib3.connectionpool:Starting new HTTPS connection (1): help.estesrockets.com:443\n",
      "DEBUG:urllib3.connectionpool:https://help.estesrockets.com:443 \"GET /hc/en-us/articles/9019709674765-1329-Multi-Roc HTTP/1.1\" 200 None\n",
      "DEBUG:urllib3.connectionpool:Starting new HTTPS connection (1): help.estesrockets.com:443\n",
      "DEBUG:urllib3.connectionpool:https://help.estesrockets.com:443 \"GET /hc/en-us/articles/8638206770445-1345-Mosquito HTTP/1.1\" 200 None\n",
      "DEBUG:urllib3.connectionpool:Starting new HTTPS connection (1): help.estesrockets.com:443\n",
      "DEBUG:urllib3.connectionpool:https://help.estesrockets.com:443 \"GET /hc/en-us/articles/9023516223629-1921-Mercury-Redstone-4-Liberty-Bell-7 HTTP/1.1\" 200 None\n",
      "DEBUG:urllib3.connectionpool:Starting new HTTPS connection (1): help.estesrockets.com:443\n",
      "DEBUG:urllib3.connectionpool:https://help.estesrockets.com:443 \"GET /hc/en-us/articles/9019419083405-1946-Boosted-Bertha HTTP/1.1\" 200 None\n",
      "DEBUG:urllib3.connectionpool:Starting new HTTPS connection (1): help.estesrockets.com:443\n",
      "DEBUG:urllib3.connectionpool:https://help.estesrockets.com:443 \"GET /hc/en-us/articles/9017849169165-1948-Big-Bertha HTTP/1.1\" 200 None\n",
      "DEBUG:urllib3.connectionpool:Starting new HTTPS connection (1): help.estesrockets.com:443\n",
      "DEBUG:urllib3.connectionpool:https://help.estesrockets.com:443 \"GET /hc/en-us/articles/9018596803341-1949-Viking HTTP/1.1\" 200 None\n",
      "DEBUG:urllib3.connectionpool:Starting new HTTPS connection (1): help.estesrockets.com:443\n",
      "DEBUG:urllib3.connectionpool:https://help.estesrockets.com:443 \"GET /hc/en-us/articles/9023922920205-1973-Saturn-V-Skylab HTTP/1.1\" 200 None\n",
      "DEBUG:urllib3.connectionpool:Starting new HTTPS connection (1): help.estesrockets.com:443\n",
      "DEBUG:urllib3.connectionpool:https://help.estesrockets.com:443 \"GET /hc/en-us/articles/8774873660941-2008-Generic-E2X HTTP/1.1\" 200 None\n",
      "DEBUG:urllib3.connectionpool:Starting new HTTPS connection (1): help.estesrockets.com:443\n",
      "DEBUG:urllib3.connectionpool:https://help.estesrockets.com:443 \"GET /hc/en-us/articles/8776002542093-2021-Cadet HTTP/1.1\" 200 None\n",
      "DEBUG:urllib3.connectionpool:Starting new HTTPS connection (1): help.estesrockets.com:443\n",
      "DEBUG:urllib3.connectionpool:https://help.estesrockets.com:443 \"GET /hc/en-us/articles/9023985807629-2056-U-S-Army-Patriot-M-104 HTTP/1.1\" 200 None\n",
      "DEBUG:urllib3.connectionpool:Starting new HTTPS connection (1): help.estesrockets.com:443\n",
      "DEBUG:urllib3.connectionpool:https://help.estesrockets.com:443 \"GET /hc/en-us/articles/9019307219597-2092-Mongoose HTTP/1.1\" 200 None\n",
      "DEBUG:urllib3.connectionpool:Starting new HTTPS connection (1): help.estesrockets.com:443\n",
      "DEBUG:urllib3.connectionpool:https://help.estesrockets.com:443 \"GET /hc/en-us/articles/9024306390029-2160-Saturn-V-1-200-Scale-Ready-To-Fly HTTP/1.1\" 200 None\n",
      "DEBUG:urllib3.connectionpool:Starting new HTTPS connection (1): help.estesrockets.com:443\n",
      "DEBUG:urllib3.connectionpool:https://help.estesrockets.com:443 \"GET /hc/en-us/articles/9024410149005-2162-Big-Daddy HTTP/1.1\" 200 None\n",
      "DEBUG:urllib3.connectionpool:Starting new HTTPS connection (1): help.estesrockets.com:443\n",
      "DEBUG:urllib3.connectionpool:https://help.estesrockets.com:443 \"GET /hc/en-us/articles/8775807621005-2169-Dragonite HTTP/1.1\" 200 None\n",
      "DEBUG:urllib3.connectionpool:Starting new HTTPS connection (1): help.estesrockets.com:443\n",
      "DEBUG:urllib3.connectionpool:https://help.estesrockets.com:443 \"GET /hc/en-us/articles/9023227670925-2198-Blue-Origin-New-Shephard-Ready-To-Fly HTTP/1.1\" 200 None\n",
      "DEBUG:urllib3.connectionpool:Starting new HTTPS connection (1): help.estesrockets.com:443\n",
      "DEBUG:urllib3.connectionpool:https://help.estesrockets.com:443 \"GET /hc/en-us/articles/9024182143245-2206-NASA-SLS HTTP/1.1\" 200 None\n",
      "DEBUG:urllib3.connectionpool:Starting new HTTPS connection (1): help.estesrockets.com:443\n",
      "DEBUG:urllib3.connectionpool:https://help.estesrockets.com:443 \"GET /hc/en-us/articles/8775502484493-2435-3-Bandits HTTP/1.1\" 200 None\n",
      "DEBUG:urllib3.connectionpool:Starting new HTTPS connection (1): help.estesrockets.com:443\n",
      "DEBUG:urllib3.connectionpool:https://help.estesrockets.com:443 \"GET /hc/en-us/articles/9024096502541-2446-Mini-Honest-John HTTP/1.1\" 200 None\n",
      "DEBUG:urllib3.connectionpool:Starting new HTTPS connection (1): help.estesrockets.com:443\n",
      "DEBUG:urllib3.connectionpool:https://help.estesrockets.com:443 \"GET /hc/en-us/articles/8774730380173-2452-Athena HTTP/1.1\" 200 None\n",
      "DEBUG:urllib3.connectionpool:Starting new HTTPS connection (1): help.estesrockets.com:443\n",
      "DEBUG:urllib3.connectionpool:https://help.estesrockets.com:443 \"GET /hc/en-us/articles/8775633619469-2483-Phantom-Blue HTTP/1.1\" 200 None\n",
      "DEBUG:urllib3.connectionpool:Starting new HTTPS connection (1): help.estesrockets.com:443\n",
      "DEBUG:urllib3.connectionpool:https://help.estesrockets.com:443 \"GET /hc/en-us/articles/9024544805901-3226-Hi-Flier-XL HTTP/1.1\" 200 None\n",
      "DEBUG:urllib3.connectionpool:Starting new HTTPS connection (1): help.estesrockets.com:443\n",
      "DEBUG:urllib3.connectionpool:https://help.estesrockets.com:443 \"GET /hc/en-us/articles/9023615713037-7000-Bull-Pup-12D HTTP/1.1\" 200 None\n",
      "DEBUG:urllib3.connectionpool:Starting new HTTPS connection (1): help.estesrockets.com:443\n",
      "DEBUG:urllib3.connectionpool:https://help.estesrockets.com:443 \"GET /hc/en-us/articles/9017756951309-7220-Crossfire-ISX HTTP/1.1\" 200 None\n",
      "DEBUG:urllib3.connectionpool:Starting new HTTPS connection (1): help.estesrockets.com:443\n",
      "DEBUG:urllib3.connectionpool:https://help.estesrockets.com:443 \"GET /hc/en-us/articles/9023714938125-7243-Black-Brant-II HTTP/1.1\" 200 None\n",
      "DEBUG:urllib3.connectionpool:Starting new HTTPS connection (1): help.estesrockets.com:443\n",
      "DEBUG:urllib3.connectionpool:https://help.estesrockets.com:443 \"GET /hc/en-us/articles/9019508145165-7245-Comanche-3 HTTP/1.1\" 200 None\n",
      "DEBUG:urllib3.connectionpool:Starting new HTTPS connection (1): help.estesrockets.com:443\n",
      "DEBUG:urllib3.connectionpool:https://help.estesrockets.com:443 \"GET /hc/en-us/articles/9021688937997-7249-Expedition HTTP/1.1\" 200 None\n",
      "DEBUG:urllib3.connectionpool:Starting new HTTPS connection (1): help.estesrockets.com:443\n",
      "DEBUG:urllib3.connectionpool:https://help.estesrockets.com:443 \"GET /hc/en-us/articles/9023825214477-7251-Saturn-1B HTTP/1.1\" 200 None\n",
      "DEBUG:urllib3.connectionpool:Starting new HTTPS connection (1): help.estesrockets.com:443\n",
      "DEBUG:urllib3.connectionpool:https://help.estesrockets.com:443 \"GET /hc/en-us/articles/9021427720077-7253-Explorer-Aquarius HTTP/1.1\" 200 None\n",
      "DEBUG:urllib3.connectionpool:Starting new HTTPS connection (1): help.estesrockets.com:443\n",
      "DEBUG:urllib3.connectionpool:https://help.estesrockets.com:443 \"GET /hc/en-us/articles/9018741097613-7259-Nike-X HTTP/1.1\" 200 None\n",
      "DEBUG:urllib3.connectionpool:Starting new HTTPS connection (1): help.estesrockets.com:443\n",
      "DEBUG:urllib3.connectionpool:https://help.estesrockets.com:443 \"GET /hc/en-us/articles/9017657401357-7263-Hex-3 HTTP/1.1\" 200 None\n",
      "DEBUG:urllib3.connectionpool:Starting new HTTPS connection (1): help.estesrockets.com:443\n",
      "DEBUG:urllib3.connectionpool:https://help.estesrockets.com:443 \"GET /hc/en-us/articles/9018814951437-7266-Red-Nova HTTP/1.1\" 200 None\n",
      "DEBUG:urllib3.connectionpool:Starting new HTTPS connection (1): help.estesrockets.com:443\n",
      "DEBUG:urllib3.connectionpool:https://help.estesrockets.com:443 \"GET /hc/en-us/articles/9024578528781-7271-SA-2061-Sasha HTTP/1.1\" 200 None\n",
      "DEBUG:urllib3.connectionpool:Starting new HTTPS connection (1): help.estesrockets.com:443\n",
      "DEBUG:urllib3.connectionpool:https://help.estesrockets.com:443 \"GET /hc/en-us/articles/9019816056205-7276-Checkmate HTTP/1.1\" 200 None\n",
      "DEBUG:urllib3.connectionpool:Starting new HTTPS connection (1): help.estesrockets.com:443\n",
      "DEBUG:urllib3.connectionpool:https://help.estesrockets.com:443 \"GET /hc/en-us/articles/9020046353549-7279-Double-Ringer HTTP/1.1\" 200 None\n",
      "DEBUG:urllib3.connectionpool:Starting new HTTPS connection (1): help.estesrockets.com:443\n",
      "DEBUG:urllib3.connectionpool:https://help.estesrockets.com:443 \"GET /hc/en-us/articles/9020576666381-7280-Gryphon HTTP/1.1\" 200 None\n",
      "DEBUG:urllib3.connectionpool:Starting new HTTPS connection (1): help.estesrockets.com:443\n",
      "DEBUG:urllib3.connectionpool:https://help.estesrockets.com:443 \"GET /hc/en-us/articles/9023040221965-7281-Space-Corps-Corvette-Class HTTP/1.1\" 200 None\n",
      "DEBUG:urllib3.connectionpool:Starting new HTTPS connection (1): help.estesrockets.com:443\n",
      "DEBUG:urllib3.connectionpool:https://help.estesrockets.com:443 \"GET /hc/en-us/articles/9020118735885-7282-Tazz HTTP/1.1\" 200 None\n",
      "DEBUG:urllib3.connectionpool:Starting new HTTPS connection (1): help.estesrockets.com:443\n",
      "DEBUG:urllib3.connectionpool:https://help.estesrockets.com:443 \"GET /hc/en-us/articles/9022211852557-7283-Destination-Mars-Mav HTTP/1.1\" 200 None\n",
      "DEBUG:urllib3.connectionpool:Starting new HTTPS connection (1): help.estesrockets.com:443\n",
      "DEBUG:urllib3.connectionpool:https://help.estesrockets.com:443 \"GET /hc/en-us/articles/9021364646285-7284-Starship-Octavius HTTP/1.1\" 200 None\n",
      "DEBUG:urllib3.connectionpool:Starting new HTTPS connection (1): help.estesrockets.com:443\n",
      "DEBUG:urllib3.connectionpool:https://help.estesrockets.com:443 \"GET /hc/en-us/articles/9021298030861-7285-LEO-Space-Train HTTP/1.1\" 200 None\n",
      "DEBUG:urllib3.connectionpool:Starting new HTTPS connection (1): help.estesrockets.com:443\n",
      "DEBUG:urllib3.connectionpool:https://help.estesrockets.com:443 \"GET /hc/en-us/articles/9018532104333-7287-Sidekick HTTP/1.1\" 200 None\n",
      "DEBUG:urllib3.connectionpool:Starting new HTTPS connection (1): help.estesrockets.com:443\n",
      "DEBUG:urllib3.connectionpool:https://help.estesrockets.com:443 \"GET /hc/en-us/articles/9019916829965-7288-Solo HTTP/1.1\" 200 None\n",
      "DEBUG:urllib3.connectionpool:Starting new HTTPS connection (1): help.estesrockets.com:443\n",
      "DEBUG:urllib3.connectionpool:https://help.estesrockets.com:443 \"GET /hc/en-us/articles/9023086531597-7290-Space-Corps-Lunar-Scout HTTP/1.1\" 200 None\n",
      "DEBUG:urllib3.connectionpool:Starting new HTTPS connection (1): help.estesrockets.com:443\n",
      "DEBUG:urllib3.connectionpool:https://help.estesrockets.com:443 \"GET /hc/en-us/articles/9022954962061-7291-Space-Corps-Centurion HTTP/1.1\" 200 None\n",
      "DEBUG:urllib3.connectionpool:Starting new HTTPS connection (1): help.estesrockets.com:443\n",
      "DEBUG:urllib3.connectionpool:https://help.estesrockets.com:443 \"GET /hc/en-us/articles/8775688975373-7292-Terra-GLM HTTP/1.1\" 200 None\n",
      "DEBUG:urllib3.connectionpool:Starting new HTTPS connection (1): help.estesrockets.com:443\n",
      "DEBUG:urllib3.connectionpool:https://help.estesrockets.com:443 \"GET /hc/en-us/articles/9018413659917-7295-Low-Boom-SST HTTP/1.1\" 200 None\n",
      "DEBUG:urllib3.connectionpool:Starting new HTTPS connection (1): help.estesrockets.com:443\n",
      "DEBUG:urllib3.connectionpool:https://help.estesrockets.com:443 \"GET /hc/en-us/articles/9020939104909-7295-Orange-Bullet HTTP/1.1\" 200 None\n",
      "DEBUG:urllib3.connectionpool:Starting new HTTPS connection (1): help.estesrockets.com:443\n",
      "DEBUG:urllib3.connectionpool:https://help.estesrockets.com:443 \"GET /hc/en-us/articles/9022096095117-7296-Destination-Mars-Longship- HTTP/1.1\" 200 None\n",
      "DEBUG:urllib3.connectionpool:Starting new HTTPS connection (1): help.estesrockets.com:443\n",
      "DEBUG:urllib3.connectionpool:https://help.estesrockets.com:443 \"GET /hc/en-us/articles/9021771327117-7297-Destination-Mars-Leaper HTTP/1.1\" 200 None\n",
      "DEBUG:urllib3.connectionpool:Starting new HTTPS connection (1): help.estesrockets.com:443\n",
      "DEBUG:urllib3.connectionpool:https://help.estesrockets.com:443 \"GET /hc/en-us/articles/9019207120909-7300-Ghost-Chaser HTTP/1.1\" 200 None\n",
      "DEBUG:urllib3.connectionpool:Starting new HTTPS connection (1): help.estesrockets.com:443\n",
      "DEBUG:urllib3.connectionpool:https://help.estesrockets.com:443 \"GET /hc/en-us/articles/9018986544909-7301-Green-Eggs HTTP/1.1\" 200 None\n",
      "DEBUG:urllib3.connectionpool:Starting new HTTPS connection (1): help.estesrockets.com:443\n",
      "DEBUG:urllib3.connectionpool:https://help.estesrockets.com:443 \"GET /hc/en-us/articles/8775257196941-7303-Star-Hopper HTTP/1.1\" 200 None\n",
      "DEBUG:urllib3.connectionpool:Starting new HTTPS connection (1): help.estesrockets.com:443\n",
      "DEBUG:urllib3.connectionpool:https://help.estesrockets.com:443 \"GET /hc/en-us/articles/9022800361101-7307-Space-Corps-DARC-1 HTTP/1.1\" 200 None\n",
      "DEBUG:urllib3.connectionpool:Starting new HTTPS connection (1): help.estesrockets.com:443\n",
      "DEBUG:urllib3.connectionpool:https://help.estesrockets.com:443 \"GET /hc/en-us/articles/9017253121805-7308-Astrocam HTTP/1.1\" 200 None\n",
      "DEBUG:urllib3.connectionpool:Starting new HTTPS connection (1): help.estesrockets.com:443\n",
      "DEBUG:urllib3.connectionpool:https://help.estesrockets.com:443 \"GET /hc/en-us/articles/9021176159757-7309-Super-Mars-Snooper HTTP/1.1\" 200 None\n",
      "DEBUG:urllib3.connectionpool:Starting new HTTPS connection (1): help.estesrockets.com:443\n",
      "DEBUG:urllib3.connectionpool:https://help.estesrockets.com:443 \"GET /hc/en-us/articles/9021024745229-7310-Antar HTTP/1.1\" 200 None\n",
      "DEBUG:urllib3.connectionpool:Starting new HTTPS connection (1): help.estesrockets.com:443\n",
      "DEBUG:urllib3.connectionpool:https://help.estesrockets.com:443 \"GET /hc/en-us/articles/9022372151181-7312-Space-Corps-Vesta-Intruder HTTP/1.1\" 200 None\n",
      "DEBUG:urllib3.connectionpool:Starting new HTTPS connection (1): help.estesrockets.com:443\n",
      "DEBUG:urllib3.connectionpool:https://help.estesrockets.com:443 \"GET /hc/en-us/articles/9021579568781-7314-Super-Orbital-Transport HTTP/1.1\" 200 None\n",
      "DEBUG:urllib3.connectionpool:Starting new HTTPS connection (1): help.estesrockets.com:443\n",
      "DEBUG:urllib3.connectionpool:https://help.estesrockets.com:443 \"GET /hc/en-us/articles/9023441591181-7315-Blue-Origin-New-Shepard-Builders-Kit- HTTP/1.1\" 200 None\n",
      "DEBUG:urllib3.connectionpool:Starting new HTTPS connection (1): help.estesrockets.com:443\n",
      "DEBUG:urllib3.connectionpool:https://help.estesrockets.com:443 \"GET /hc/en-us/articles/9024936795789-9707-Pro-Series-II-E2X-Majestic HTTP/1.1\" 200 None\n",
      "DEBUG:urllib3.connectionpool:Starting new HTTPS connection (1): help.estesrockets.com:443\n",
      "DEBUG:urllib3.connectionpool:https://help.estesrockets.com:443 \"GET /hc/en-us/articles/9024982041357-9716-Pro-Series-II-Star-Orbiter HTTP/1.1\" 200 None\n",
      "DEBUG:urllib3.connectionpool:Starting new HTTPS connection (1): help.estesrockets.com:443\n",
      "DEBUG:urllib3.connectionpool:https://help.estesrockets.com:443 \"GET /hc/en-us/articles/9024837783821-9719-Pro-Series-II-Super-Big-Bertha HTTP/1.1\" 200 None\n",
      "DEBUG:urllib3.connectionpool:Starting new HTTPS connection (1): help.estesrockets.com:443\n",
      "DEBUG:urllib3.connectionpool:https://help.estesrockets.com:443 \"GET /hc/en-us/articles/9024714073869-9720-Pro-Series-II-Doorknob HTTP/1.1\" 200 None\n",
      "DEBUG:urllib3.connectionpool:Starting new HTTPS connection (1): help.estesrockets.com:443\n",
      "DEBUG:urllib3.connectionpool:https://help.estesrockets.com:443 \"GET /hc/en-us/articles/9025058908045-9721-Der-Big-Red-Max HTTP/1.1\" 200 None\n"
     ]
    }
   ],
   "source": [
    "process_csv('estes_kits.csv', 'Estes_kits_detail.csv')"
   ]
  },
  {
   "cell_type": "markdown",
   "metadata": {},
   "source": [
    "## Estes Out of Production Kit Data\n",
    "\n",
    "Gets a list of OOP kits\n"
   ]
  },
  {
   "cell_type": "code",
   "execution_count": null,
   "metadata": {},
   "outputs": [],
   "source": [
    "all_links = get_links(\n",
    "    '/hc/en-us/sections/8356482425613-Out-of-Production-Kits')\n",
    "fieldnames = ['URL', 'Model', 'Name']  # Define your fieldnames\n",
    "write_dataset('estes_kits_oop.csv', all_links, fieldnames)"
   ]
  },
  {
   "cell_type": "markdown",
   "metadata": {},
   "source": [
    "### Out of production kit details\n",
    "\n",
    "Nothing here except a link to the instructions pdf\n"
   ]
  },
  {
   "cell_type": "code",
   "execution_count": null,
   "metadata": {},
   "outputs": [],
   "source": [
    "# process_csv('estes_kits_oop.csv', 'Estes_kits_detail_oop.csv')"
   ]
  },
  {
   "cell_type": "markdown",
   "metadata": {},
   "source": [
    "## Classroom/Bulk Kits\n"
   ]
  },
  {
   "cell_type": "code",
   "execution_count": null,
   "metadata": {},
   "outputs": [],
   "source": [
    "all_links = get_links(\n",
    "    '/hc/en-us/sections/9025204863373-Classroom-Bulk-Kits')\n",
    "fieldnames = ['URL', 'Model', 'Name']  # Define your fieldnames\n",
    "write_dataset('estes_kits_bulk.csv', all_links, fieldnames)"
   ]
  },
  {
   "cell_type": "markdown",
   "metadata": {},
   "source": [
    "### Bulk kit details\n"
   ]
  },
  {
   "cell_type": "code",
   "execution_count": null,
   "metadata": {},
   "outputs": [],
   "source": [
    "process_csv('estes_kits_bulk.csv', 'Estes_kits_detail_bulk.csv')"
   ]
  }
 ],
 "metadata": {
  "kernelspec": {
   "display_name": "pifarm-3-10.3",
   "language": "python",
   "name": "python3"
  },
  "language_info": {
   "codemirror_mode": {
    "name": "ipython",
    "version": 3
   },
   "file_extension": ".py",
   "mimetype": "text/x-python",
   "name": "python",
   "nbconvert_exporter": "python",
   "pygments_lexer": "ipython3",
   "version": "3.11.6"
  }
 },
 "nbformat": 4,
 "nbformat_minor": 2
}
