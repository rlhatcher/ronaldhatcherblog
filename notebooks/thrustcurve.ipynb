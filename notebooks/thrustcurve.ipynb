{
 "cells": [
  {
   "cell_type": "code",
   "execution_count": null,
   "metadata": {},
   "outputs": [],
   "source": [
    "import urllib.request\n",
    "import json\n",
    "import csv"
   ]
  },
  {
   "cell_type": "markdown",
   "metadata": {},
   "source": [
    "## Metadata\n",
    "\n",
    "Start off with the metadata for cert orgs, diameters, manufacturers, etc."
   ]
  },
  {
   "cell_type": "code",
   "execution_count": 3,
   "metadata": {},
   "outputs": [],
   "source": [
    "api_url = 'https://www.thrustcurve.org/api/v1/metadata.json'\n",
    "\n",
    "# Send a GET request to the API\n",
    "with urllib.request.urlopen(api_url) as url:\n",
    "    data = json.loads(url.read().decode())\n",
    "\n",
    "# Function to write data to CSV\n",
    "def write_to_csv(filename, data):\n",
    "    with open(filename, 'w', newline='', encoding='utf-8') as file:\n",
    "        if isinstance(data[0], dict):  # Check if the first item is a dictionary\n",
    "            writer = csv.DictWriter(file, fieldnames=data[0].keys())\n",
    "            writer.writeheader()\n",
    "            writer.writerows(data)\n",
    "        else:  # Handle list of strings or numbers\n",
    "            writer = csv.writer(file)\n",
    "            for item in data:\n",
    "                writer.writerow([item])\n",
    "\n",
    "# Iterate over each key in the JSON data\n",
    "for key in data.keys():\n",
    "    if isinstance(data[key], list) and data[key]:\n",
    "        filename = f\"{key}.csv\"\n",
    "        write_to_csv(filename, data[key])\n"
   ]
  },
  {
   "cell_type": "code",
   "execution_count": 7,
   "metadata": {},
   "outputs": [],
   "source": [
    "import csv\n",
    "import json\n",
    "import urllib.request\n",
    "\n",
    "def save_to_csv(data, filename):\n",
    "    # Extract all unique keys from the data\n",
    "    fieldnames = set()\n",
    "    for item in data:\n",
    "        fieldnames.update(item.keys())\n",
    "\n",
    "    with open(filename, mode='w', newline='', encoding='utf-8') as file:\n",
    "        writer = csv.DictWriter(file, fieldnames=fieldnames)\n",
    "        writer.writeheader()\n",
    "        for item in data:\n",
    "            # Fill missing fields with None or a default value\n",
    "            row = {field: item.get(field, None) for field in fieldnames}\n",
    "            writer.writerow(row)\n",
    "\n",
    "def fetch_data():\n",
    "    url = \"https://www.thrustcurve.org/api/v1/search.json\"\n",
    "    headers = {\n",
    "        \"Content-Type\": \"application/json\",\n",
    "    }\n",
    "    data = json.dumps({\n",
    "        \"maxResults\": \"1200\"\n",
    "    })\n",
    "\n",
    "    request = urllib.request.Request(url, data=data.encode(), headers=headers)\n",
    "    with urllib.request.urlopen(request) as response:\n",
    "        response_data = json.loads(response.read())\n",
    "\n",
    "    return response_data['results']\n",
    "\n",
    "# Fetch data from API\n",
    "data = fetch_data()\n",
    "\n",
    "# Save data to CSV\n",
    "save_to_csv(data, 'rocket_motors.csv')\n"
   ]
  }
 ],
 "metadata": {
  "kernelspec": {
   "display_name": "Python 3",
   "language": "python",
   "name": "python3"
  },
  "language_info": {
   "codemirror_mode": {
    "name": "ipython",
    "version": 3
   },
   "file_extension": ".py",
   "mimetype": "text/x-python",
   "name": "python",
   "nbconvert_exporter": "python",
   "pygments_lexer": "ipython3",
   "version": "3.10.3"
  }
 },
 "nbformat": 4,
 "nbformat_minor": 2
}
